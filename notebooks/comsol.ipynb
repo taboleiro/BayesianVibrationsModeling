{
 "cells": [
  {
   "cell_type": "code",
   "execution_count": 1,
   "metadata": {},
   "outputs": [],
   "source": [
    "import mph\n",
    "import matplotlib.pyplot as plt\n",
    "\n",
    "import pyro\n",
    "import numpy as np\n",
    "import pandas as pd\n",
    "import pyro\n",
    "import pyro.distributions as dist\n",
    "from pyro.infer import SVI, Trace_ELBO, MCMC, NUTS\n",
    "\n",
    "import torch\n",
    "from torch.distributions import constraints\n",
    "\n",
    "import matplotlib.pyplot as plt\n",
    "import seaborn as sns\n",
    "\n",
    "import graphviz\n",
    "import sys\n",
    "sys.path.append('../')\n",
    "import utils"
   ]
  },
  {
   "cell_type": "code",
   "execution_count": 2,
   "metadata": {},
   "outputs": [
    {
     "name": "stdout",
     "output_type": "stream",
     "text": [
      "Command copied in the clipboard.\n",
      "Total number of data points: 38\n",
      "Press ctrl+v to paste it\n",
      "\n",
      "[ 234  236  236  238  238  240  240  242  242  244  244 1290 1292 1292\n",
      " 1294 1294 1296 1296 1298 1298 1300 1300 3194 3196 3196 3198 3198 3200\n",
      " 3200 5954 5956 5956 5958 5958 5960 5960 5962 5962]\n"
     ]
    }
   ],
   "source": [
    "\n",
    "freqValues = [[117.5,122.5,0.5],[645.5,650.5,0.5],[1597.5,1600.5,0.5], [2977.5,2981.5,0.5]]\n",
    "freqVal = utils.createComsolVector(\"lin\", freqValues, param=\"step\", display=False).astype(int)\n",
    "print(freqVal*2)"
   ]
  },
  {
   "cell_type": "code",
   "execution_count": 2,
   "metadata": {},
   "outputs": [
    {
     "name": "stdout",
     "output_type": "stream",
     "text": [
      "Command copied in the clipboard.\n",
      "Total number of data points: 21\n",
      "Press ctrl+v to paste it\n",
      "\n"
     ]
    }
   ],
   "source": [
    "\n",
    "freqValues = [[117.5,122.5,1],[645.5,650.5,1],[1597.5,1600.5,1], [2977.5,2981.5,1]]\n",
    "freqVal = utils.createComsolVector(\"lin\", freqValues, param=\"step\", display=False).astype(int)\n",
    "# Importing measured data\n",
    "\n",
    "files = [\"centerFreqResponse\"]#, \"center2FreqResponse\", \"randomFreqResponse\"]\n",
    "Y_exp = np.array([])\n",
    "for file in files:\n",
    "    experiment = pd.read_csv(\"../Data/bend/\"+file+\".csv\")\n",
    "    # Mobility value calculated from input data and converted to torch\n",
    "    mobility = abs(experiment[\"force\"].values + 1j*experiment[\"velocity\"].values)\n",
    "    Y_exp = np.append(Y_exp, abs(mobility[[freqVal*2]]))\n",
    "    #self.Y_exp_norm = (self.Y_exp - self.Y_exp.mean()) / self.Y_exp.std() # Normalization\n",
    "    freq = torch.tensor(experiment[\"freq\"].values) # Freq values(x axis) converted to torch\n",
    "meas = pd.read_csv(\"../Data/bend/centerFreqResponse.csv\")\n",
    "mobility = abs(meas[\"force\"].values + 1j*meas[\"velocity\"].values)"
   ]
  },
  {
   "cell_type": "code",
   "execution_count": 3,
   "metadata": {},
   "outputs": [
    {
     "name": "stdout",
     "output_type": "stream",
     "text": [
      "[0.008s][warning][os,thread] Attempt to protect stack guard pages failed (0x000000016d0e8000-0x000000016d0f4000).\n",
      "[0.008s][warning][os,thread] Attempt to deallocate stack guard pages failed.\n"
     ]
    }
   ],
   "source": [
    "client = mph.start()\n",
    "model = client.load(\"../comsol/beam.mph\")\n"
   ]
  },
  {
   "cell_type": "code",
   "execution_count": 4,
   "metadata": {},
   "outputs": [
    {
     "data": {
      "text/plain": [
       "{'Youngs': '99600000000.0 [Pa]',\n",
       " 'density': '8340.0 [kg/m^3]',\n",
       " 'F0': '1 [N]',\n",
       " 'freq': '2906 [Hz]',\n",
       " 'damping': '0.0001 [Pa]'}"
      ]
     },
     "execution_count": 4,
     "metadata": {},
     "output_type": "execute_result"
    }
   ],
   "source": [
    "model.parameters()\n",
    "def updateParam(model, young=1, rho=1, eta=1):\n",
    "    model.parameter('Youngs', str(young*10e10)+' [Pa]')\n",
    "    model.parameter('density', str(rho*8.34e3)+' [kg/m^3]')\n",
    "    model.parameter('damping', str(eta*0.01)+' [Pa]')\n",
    "\n",
    "updateParam(model, young=0.996, rho=1, eta=0.01)\n",
    "model.parameters()"
   ]
  },
  {
   "cell_type": "code",
   "execution_count": 5,
   "metadata": {},
   "outputs": [],
   "source": [
    "def model_YoungDampingDensity(x, y_obs):\n",
    "    # Density definition\n",
    "    #rho_mean = pyro.param(\"rho_mean\", dist.Normal(1., 0.5), constraint=constraints.real)\n",
    "    #rho_var = pyro.param(\"rho_var\", dist.Cauchy(1., 0.), constraint=constraints.positive)\n",
    "    rho = pyro.sample(\"rho\", dist.Normal(1., 0.25))\n",
    "    # Damping loss factor definition\n",
    "    \"\"\"\n",
    "    eta_mean = pyro.param(\"eta_mean\", dist.Normal(1., .2), constraint=constraints.positive)\n",
    "    eta_var = pyro.param(\"eta_var\", dist.Cauchy(0., .5))\n",
    "    \"\"\"\n",
    "    eta = pyro.sample(\"eta\", dist.Normal(1., 0.25))\n",
    "    # Young's modulus definition\n",
    "    #E_mean = pyro.param(\"E_mean\", dist.Normal(0.99, .5), constraint=constraints.positive)\n",
    "    #E_var = pyro.param(\"E_var\", dist.Cauchy(1., 0.), constraint=constraints.positive)\n",
    "    E = pyro.sample(\"E\", dist.Normal(1., 0.01))\n",
    "    # Since the studio is done frequcuency by frequency, the loop can't be vectorized like: \"with pyro.plate......\"\n",
    "    y = torch.zeros(len(y_obs))\n",
    "    with pyro.plate(\"data\", len(y_obs)):\n",
    "        #updateParam(model, young=E.detach().numpy(), rho=rho.detach().numpy(), eta=eta.detach().numpy(), freq=x[i])\n",
    "\n",
    "        updateParam(model, young=E.detach().numpy(), rho=rho.detach().numpy())\n",
    "        model.solve(\"Study 3\")\n",
    "        comsolResults = abs(model.evaluate('comp1.point1'))\n",
    "        #print(y_obs[i])\n",
    "        y = pyro.sample(\"y\", dist.Normal(torch.tensor(comsolResults), 0.5), obs=y_obs)\n",
    "    return y"
   ]
  },
  {
   "cell_type": "markdown",
   "metadata": {},
   "source": [
    "## Exact inference"
   ]
  },
  {
   "cell_type": "code",
   "execution_count": 6,
   "metadata": {},
   "outputs": [
    {
     "name": "stderr",
     "output_type": "stream",
     "text": [
      "Sample:  14%|█▎        | 15/110 [8:14:43, 1763.09s/it, step size=3.09e-03, acc. prob=0.365]"
     ]
    },
    {
     "ename": "KeyboardInterrupt",
     "evalue": "",
     "output_type": "error",
     "traceback": [
      "\u001b[0;31m---------------------------------------------------------------------------\u001b[0m",
      "\u001b[0;31mKeyboardInterrupt\u001b[0m                         Traceback (most recent call last)",
      "\u001b[1;32m/Users/pablotaboasrivss/Library/CloudStorage/OneDrive-DanmarksTekniskeUniversitet/Master/Thesis/BayesianVibrationsModeling/notebooks/comsol.ipynb Cell 8\u001b[0m in \u001b[0;36m<cell line: 8>\u001b[0;34m()\u001b[0m\n\u001b[1;32m      <a href='vscode-notebook-cell:/Users/pablotaboasrivss/Library/CloudStorage/OneDrive-DanmarksTekniskeUniversitet/Master/Thesis/BayesianVibrationsModeling/notebooks/comsol.ipynb#X10sZmlsZQ%3D%3D?line=5'>6</a>\u001b[0m nuts_kernel \u001b[39m=\u001b[39m NUTS(model_YoungDampingDensity)\n\u001b[1;32m      <a href='vscode-notebook-cell:/Users/pablotaboasrivss/Library/CloudStorage/OneDrive-DanmarksTekniskeUniversitet/Master/Thesis/BayesianVibrationsModeling/notebooks/comsol.ipynb#X10sZmlsZQ%3D%3D?line=6'>7</a>\u001b[0m mcmc \u001b[39m=\u001b[39m MCMC(nuts_kernel, num_samples\u001b[39m=\u001b[39m\u001b[39m100\u001b[39m, warmup_steps\u001b[39m=\u001b[39m\u001b[39m10\u001b[39m, num_chains\u001b[39m=\u001b[39m\u001b[39m1\u001b[39m)        \n\u001b[0;32m----> <a href='vscode-notebook-cell:/Users/pablotaboasrivss/Library/CloudStorage/OneDrive-DanmarksTekniskeUniversitet/Master/Thesis/BayesianVibrationsModeling/notebooks/comsol.ipynb#X10sZmlsZQ%3D%3D?line=7'>8</a>\u001b[0m mcmc\u001b[39m.\u001b[39;49mrun(input_x, torch\u001b[39m.\u001b[39;49mtensor(y_obs))\n\u001b[1;32m     <a href='vscode-notebook-cell:/Users/pablotaboasrivss/Library/CloudStorage/OneDrive-DanmarksTekniskeUniversitet/Master/Thesis/BayesianVibrationsModeling/notebooks/comsol.ipynb#X10sZmlsZQ%3D%3D?line=9'>10</a>\u001b[0m \u001b[39m# Show summary of inference results\u001b[39;00m\n\u001b[1;32m     <a href='vscode-notebook-cell:/Users/pablotaboasrivss/Library/CloudStorage/OneDrive-DanmarksTekniskeUniversitet/Master/Thesis/BayesianVibrationsModeling/notebooks/comsol.ipynb#X10sZmlsZQ%3D%3D?line=10'>11</a>\u001b[0m mcmc\u001b[39m.\u001b[39msummary()\n",
      "File \u001b[0;32m/opt/miniconda3/lib/python3.9/site-packages/pyro/poutine/messenger.py:12\u001b[0m, in \u001b[0;36m_context_wrap\u001b[0;34m(context, fn, *args, **kwargs)\u001b[0m\n\u001b[1;32m     10\u001b[0m \u001b[39mdef\u001b[39;00m \u001b[39m_context_wrap\u001b[39m(context, fn, \u001b[39m*\u001b[39margs, \u001b[39m*\u001b[39m\u001b[39m*\u001b[39mkwargs):\n\u001b[1;32m     11\u001b[0m     \u001b[39mwith\u001b[39;00m context:\n\u001b[0;32m---> 12\u001b[0m         \u001b[39mreturn\u001b[39;00m fn(\u001b[39m*\u001b[39;49margs, \u001b[39m*\u001b[39;49m\u001b[39m*\u001b[39;49mkwargs)\n",
      "File \u001b[0;32m/opt/miniconda3/lib/python3.9/site-packages/pyro/infer/mcmc/api.py:563\u001b[0m, in \u001b[0;36mMCMC.run\u001b[0;34m(self, *args, **kwargs)\u001b[0m\n\u001b[1;32m    554\u001b[0m \u001b[39mwith\u001b[39;00m optional(\n\u001b[1;32m    555\u001b[0m     pyro\u001b[39m.\u001b[39mvalidation_enabled(\u001b[39mnot\u001b[39;00m \u001b[39mself\u001b[39m\u001b[39m.\u001b[39mdisable_validation),\n\u001b[1;32m    556\u001b[0m     \u001b[39mself\u001b[39m\u001b[39m.\u001b[39mdisable_validation \u001b[39mis\u001b[39;00m \u001b[39mnot\u001b[39;00m \u001b[39mNone\u001b[39;00m,\n\u001b[0;32m   (...)\u001b[0m\n\u001b[1;32m    560\u001b[0m     \u001b[39m# This also resolves \"RuntimeError: Cowardly refusing to serialize non-leaf tensor which\u001b[39;00m\n\u001b[1;32m    561\u001b[0m     \u001b[39m# requires_grad\", which happens with `jit_compile` under PyTorch 1.7\u001b[39;00m\n\u001b[1;32m    562\u001b[0m     args \u001b[39m=\u001b[39m [arg\u001b[39m.\u001b[39mdetach() \u001b[39mif\u001b[39;00m torch\u001b[39m.\u001b[39mis_tensor(arg) \u001b[39melse\u001b[39;00m arg \u001b[39mfor\u001b[39;00m arg \u001b[39min\u001b[39;00m args]\n\u001b[0;32m--> 563\u001b[0m     \u001b[39mfor\u001b[39;00m x, chain_id \u001b[39min\u001b[39;00m \u001b[39mself\u001b[39m\u001b[39m.\u001b[39msampler\u001b[39m.\u001b[39mrun(\u001b[39m*\u001b[39margs, \u001b[39m*\u001b[39m\u001b[39m*\u001b[39mkwargs):\n\u001b[1;32m    564\u001b[0m         \u001b[39mif\u001b[39;00m num_samples[chain_id] \u001b[39m==\u001b[39m \u001b[39m0\u001b[39m:\n\u001b[1;32m    565\u001b[0m             num_samples[chain_id] \u001b[39m+\u001b[39m\u001b[39m=\u001b[39m \u001b[39m1\u001b[39m\n",
      "File \u001b[0;32m/opt/miniconda3/lib/python3.9/site-packages/pyro/infer/mcmc/api.py:223\u001b[0m, in \u001b[0;36m_UnarySampler.run\u001b[0;34m(self, *args, **kwargs)\u001b[0m\n\u001b[1;32m    221\u001b[0m logger \u001b[39m=\u001b[39m initialize_logger(logger, \u001b[39m\"\u001b[39m\u001b[39m\"\u001b[39m, progress_bar)\n\u001b[1;32m    222\u001b[0m hook_w_logging \u001b[39m=\u001b[39m _add_logging_hook(logger, progress_bar, \u001b[39mself\u001b[39m\u001b[39m.\u001b[39mhook)\n\u001b[0;32m--> 223\u001b[0m \u001b[39mfor\u001b[39;00m sample \u001b[39min\u001b[39;00m _gen_samples(\n\u001b[1;32m    224\u001b[0m     \u001b[39mself\u001b[39m\u001b[39m.\u001b[39mkernel,\n\u001b[1;32m    225\u001b[0m     \u001b[39mself\u001b[39m\u001b[39m.\u001b[39mwarmup_steps,\n\u001b[1;32m    226\u001b[0m     \u001b[39mself\u001b[39m\u001b[39m.\u001b[39mnum_samples,\n\u001b[1;32m    227\u001b[0m     hook_w_logging,\n\u001b[1;32m    228\u001b[0m     i \u001b[39mif\u001b[39;00m \u001b[39mself\u001b[39m\u001b[39m.\u001b[39mnum_chains \u001b[39m>\u001b[39m \u001b[39m1\u001b[39m \u001b[39melse\u001b[39;00m \u001b[39mNone\u001b[39;00m,\n\u001b[1;32m    229\u001b[0m     \u001b[39m*\u001b[39margs,\n\u001b[1;32m    230\u001b[0m     \u001b[39m*\u001b[39m\u001b[39m*\u001b[39mkwargs\n\u001b[1;32m    231\u001b[0m ):\n\u001b[1;32m    232\u001b[0m     \u001b[39myield\u001b[39;00m sample, i  \u001b[39m# sample, chain_id\u001b[39;00m\n\u001b[1;32m    233\u001b[0m \u001b[39mself\u001b[39m\u001b[39m.\u001b[39mkernel\u001b[39m.\u001b[39mcleanup()\n",
      "File \u001b[0;32m/opt/miniconda3/lib/python3.9/site-packages/pyro/infer/mcmc/api.py:158\u001b[0m, in \u001b[0;36m_gen_samples\u001b[0;34m(kernel, warmup_steps, num_samples, hook, chain_id, *args, **kwargs)\u001b[0m\n\u001b[1;32m    151\u001b[0m     hook(\n\u001b[1;32m    152\u001b[0m         kernel,\n\u001b[1;32m    153\u001b[0m         params,\n\u001b[1;32m    154\u001b[0m         \u001b[39m\"\u001b[39m\u001b[39mWarmup [\u001b[39m\u001b[39m{}\u001b[39;00m\u001b[39m]\u001b[39m\u001b[39m\"\u001b[39m\u001b[39m.\u001b[39mformat(chain_id) \u001b[39mif\u001b[39;00m chain_id \u001b[39mis\u001b[39;00m \u001b[39mnot\u001b[39;00m \u001b[39mNone\u001b[39;00m \u001b[39melse\u001b[39;00m \u001b[39m\"\u001b[39m\u001b[39mWarmup\u001b[39m\u001b[39m\"\u001b[39m,\n\u001b[1;32m    155\u001b[0m         i,\n\u001b[1;32m    156\u001b[0m     )\n\u001b[1;32m    157\u001b[0m \u001b[39mfor\u001b[39;00m i \u001b[39min\u001b[39;00m \u001b[39mrange\u001b[39m(num_samples):\n\u001b[0;32m--> 158\u001b[0m     params \u001b[39m=\u001b[39m kernel\u001b[39m.\u001b[39;49msample(params)\n\u001b[1;32m    159\u001b[0m     hook(\n\u001b[1;32m    160\u001b[0m         kernel,\n\u001b[1;32m    161\u001b[0m         params,\n\u001b[1;32m    162\u001b[0m         \u001b[39m\"\u001b[39m\u001b[39mSample [\u001b[39m\u001b[39m{}\u001b[39;00m\u001b[39m]\u001b[39m\u001b[39m\"\u001b[39m\u001b[39m.\u001b[39mformat(chain_id) \u001b[39mif\u001b[39;00m chain_id \u001b[39mis\u001b[39;00m \u001b[39mnot\u001b[39;00m \u001b[39mNone\u001b[39;00m \u001b[39melse\u001b[39;00m \u001b[39m\"\u001b[39m\u001b[39mSample\u001b[39m\u001b[39m\"\u001b[39m,\n\u001b[1;32m    163\u001b[0m         i,\n\u001b[1;32m    164\u001b[0m     )\n\u001b[1;32m    165\u001b[0m     flat \u001b[39m=\u001b[39m [params[name]\u001b[39m.\u001b[39mreshape(\u001b[39m-\u001b[39m\u001b[39m1\u001b[39m) \u001b[39mfor\u001b[39;00m name \u001b[39min\u001b[39;00m save_params]\n",
      "File \u001b[0;32m/opt/miniconda3/lib/python3.9/site-packages/pyro/infer/mcmc/nuts.py:437\u001b[0m, in \u001b[0;36mNUTS.sample\u001b[0;34m(self, params)\u001b[0m\n\u001b[1;32m    433\u001b[0m direction \u001b[39m=\u001b[39m \u001b[39mint\u001b[39m(direction\u001b[39m.\u001b[39mitem())\n\u001b[1;32m    434\u001b[0m \u001b[39mif\u001b[39;00m (\n\u001b[1;32m    435\u001b[0m     direction \u001b[39m==\u001b[39m \u001b[39m1\u001b[39m\n\u001b[1;32m    436\u001b[0m ):  \u001b[39m# go to the right, start from the right leaf of current tree\u001b[39;00m\n\u001b[0;32m--> 437\u001b[0m     new_tree \u001b[39m=\u001b[39m \u001b[39mself\u001b[39;49m\u001b[39m.\u001b[39;49m_build_tree(\n\u001b[1;32m    438\u001b[0m         z_right,\n\u001b[1;32m    439\u001b[0m         r_right,\n\u001b[1;32m    440\u001b[0m         z_right_grads,\n\u001b[1;32m    441\u001b[0m         log_slice,\n\u001b[1;32m    442\u001b[0m         direction,\n\u001b[1;32m    443\u001b[0m         tree_depth,\n\u001b[1;32m    444\u001b[0m         energy_current,\n\u001b[1;32m    445\u001b[0m     )\n\u001b[1;32m    446\u001b[0m     \u001b[39m# update leaf for the next doubling process\u001b[39;00m\n\u001b[1;32m    447\u001b[0m     z_right \u001b[39m=\u001b[39m new_tree\u001b[39m.\u001b[39mz_right\n",
      "File \u001b[0;32m/opt/miniconda3/lib/python3.9/site-packages/pyro/infer/mcmc/nuts.py:259\u001b[0m, in \u001b[0;36mNUTS._build_tree\u001b[0;34m(self, z, r, z_grads, log_slice, direction, tree_depth, energy_current)\u001b[0m\n\u001b[1;32m    254\u001b[0m     \u001b[39mreturn\u001b[39;00m \u001b[39mself\u001b[39m\u001b[39m.\u001b[39m_build_basetree(\n\u001b[1;32m    255\u001b[0m         z, r, z_grads, log_slice, direction, energy_current\n\u001b[1;32m    256\u001b[0m     )\n\u001b[1;32m    258\u001b[0m \u001b[39m# build the first half of tree\u001b[39;00m\n\u001b[0;32m--> 259\u001b[0m half_tree \u001b[39m=\u001b[39m \u001b[39mself\u001b[39;49m\u001b[39m.\u001b[39;49m_build_tree(\n\u001b[1;32m    260\u001b[0m     z, r, z_grads, log_slice, direction, tree_depth \u001b[39m-\u001b[39;49m \u001b[39m1\u001b[39;49m, energy_current\n\u001b[1;32m    261\u001b[0m )\n\u001b[1;32m    262\u001b[0m z_proposal \u001b[39m=\u001b[39m half_tree\u001b[39m.\u001b[39mz_proposal\n\u001b[1;32m    263\u001b[0m z_proposal_pe \u001b[39m=\u001b[39m half_tree\u001b[39m.\u001b[39mz_proposal_pe\n",
      "File \u001b[0;32m/opt/miniconda3/lib/python3.9/site-packages/pyro/infer/mcmc/nuts.py:259\u001b[0m, in \u001b[0;36mNUTS._build_tree\u001b[0;34m(self, z, r, z_grads, log_slice, direction, tree_depth, energy_current)\u001b[0m\n\u001b[1;32m    254\u001b[0m     \u001b[39mreturn\u001b[39;00m \u001b[39mself\u001b[39m\u001b[39m.\u001b[39m_build_basetree(\n\u001b[1;32m    255\u001b[0m         z, r, z_grads, log_slice, direction, energy_current\n\u001b[1;32m    256\u001b[0m     )\n\u001b[1;32m    258\u001b[0m \u001b[39m# build the first half of tree\u001b[39;00m\n\u001b[0;32m--> 259\u001b[0m half_tree \u001b[39m=\u001b[39m \u001b[39mself\u001b[39;49m\u001b[39m.\u001b[39;49m_build_tree(\n\u001b[1;32m    260\u001b[0m     z, r, z_grads, log_slice, direction, tree_depth \u001b[39m-\u001b[39;49m \u001b[39m1\u001b[39;49m, energy_current\n\u001b[1;32m    261\u001b[0m )\n\u001b[1;32m    262\u001b[0m z_proposal \u001b[39m=\u001b[39m half_tree\u001b[39m.\u001b[39mz_proposal\n\u001b[1;32m    263\u001b[0m z_proposal_pe \u001b[39m=\u001b[39m half_tree\u001b[39m.\u001b[39mz_proposal_pe\n",
      "    \u001b[0;31m[... skipping similar frames: NUTS._build_tree at line 259 (2 times)]\u001b[0m\n",
      "File \u001b[0;32m/opt/miniconda3/lib/python3.9/site-packages/pyro/infer/mcmc/nuts.py:259\u001b[0m, in \u001b[0;36mNUTS._build_tree\u001b[0;34m(self, z, r, z_grads, log_slice, direction, tree_depth, energy_current)\u001b[0m\n\u001b[1;32m    254\u001b[0m     \u001b[39mreturn\u001b[39;00m \u001b[39mself\u001b[39m\u001b[39m.\u001b[39m_build_basetree(\n\u001b[1;32m    255\u001b[0m         z, r, z_grads, log_slice, direction, energy_current\n\u001b[1;32m    256\u001b[0m     )\n\u001b[1;32m    258\u001b[0m \u001b[39m# build the first half of tree\u001b[39;00m\n\u001b[0;32m--> 259\u001b[0m half_tree \u001b[39m=\u001b[39m \u001b[39mself\u001b[39;49m\u001b[39m.\u001b[39;49m_build_tree(\n\u001b[1;32m    260\u001b[0m     z, r, z_grads, log_slice, direction, tree_depth \u001b[39m-\u001b[39;49m \u001b[39m1\u001b[39;49m, energy_current\n\u001b[1;32m    261\u001b[0m )\n\u001b[1;32m    262\u001b[0m z_proposal \u001b[39m=\u001b[39m half_tree\u001b[39m.\u001b[39mz_proposal\n\u001b[1;32m    263\u001b[0m z_proposal_pe \u001b[39m=\u001b[39m half_tree\u001b[39m.\u001b[39mz_proposal_pe\n",
      "File \u001b[0;32m/opt/miniconda3/lib/python3.9/site-packages/pyro/infer/mcmc/nuts.py:281\u001b[0m, in \u001b[0;36mNUTS._build_tree\u001b[0;34m(self, z, r, z_grads, log_slice, direction, tree_depth, energy_current)\u001b[0m\n\u001b[1;32m    279\u001b[0m     r \u001b[39m=\u001b[39m half_tree\u001b[39m.\u001b[39mr_left\n\u001b[1;32m    280\u001b[0m     z_grads \u001b[39m=\u001b[39m half_tree\u001b[39m.\u001b[39mz_left_grads\n\u001b[0;32m--> 281\u001b[0m other_half_tree \u001b[39m=\u001b[39m \u001b[39mself\u001b[39;49m\u001b[39m.\u001b[39;49m_build_tree(\n\u001b[1;32m    282\u001b[0m     z, r, z_grads, log_slice, direction, tree_depth \u001b[39m-\u001b[39;49m \u001b[39m1\u001b[39;49m, energy_current\n\u001b[1;32m    283\u001b[0m )\n\u001b[1;32m    285\u001b[0m \u001b[39mif\u001b[39;00m \u001b[39mself\u001b[39m\u001b[39m.\u001b[39muse_multinomial_sampling:\n\u001b[1;32m    286\u001b[0m     tree_weight \u001b[39m=\u001b[39m _logaddexp(half_tree\u001b[39m.\u001b[39mweight, other_half_tree\u001b[39m.\u001b[39mweight)\n",
      "File \u001b[0;32m/opt/miniconda3/lib/python3.9/site-packages/pyro/infer/mcmc/nuts.py:254\u001b[0m, in \u001b[0;36mNUTS._build_tree\u001b[0;34m(self, z, r, z_grads, log_slice, direction, tree_depth, energy_current)\u001b[0m\n\u001b[1;32m    250\u001b[0m \u001b[39mdef\u001b[39;00m \u001b[39m_build_tree\u001b[39m(\n\u001b[1;32m    251\u001b[0m     \u001b[39mself\u001b[39m, z, r, z_grads, log_slice, direction, tree_depth, energy_current\n\u001b[1;32m    252\u001b[0m ):\n\u001b[1;32m    253\u001b[0m     \u001b[39mif\u001b[39;00m tree_depth \u001b[39m==\u001b[39m \u001b[39m0\u001b[39m:\n\u001b[0;32m--> 254\u001b[0m         \u001b[39mreturn\u001b[39;00m \u001b[39mself\u001b[39;49m\u001b[39m.\u001b[39;49m_build_basetree(\n\u001b[1;32m    255\u001b[0m             z, r, z_grads, log_slice, direction, energy_current\n\u001b[1;32m    256\u001b[0m         )\n\u001b[1;32m    258\u001b[0m     \u001b[39m# build the first half of tree\u001b[39;00m\n\u001b[1;32m    259\u001b[0m     half_tree \u001b[39m=\u001b[39m \u001b[39mself\u001b[39m\u001b[39m.\u001b[39m_build_tree(\n\u001b[1;32m    260\u001b[0m         z, r, z_grads, log_slice, direction, tree_depth \u001b[39m-\u001b[39m \u001b[39m1\u001b[39m, energy_current\n\u001b[1;32m    261\u001b[0m     )\n",
      "File \u001b[0;32m/opt/miniconda3/lib/python3.9/site-packages/pyro/infer/mcmc/nuts.py:199\u001b[0m, in \u001b[0;36mNUTS._build_basetree\u001b[0;34m(self, z, r, z_grads, log_slice, direction, energy_current)\u001b[0m\n\u001b[1;32m    197\u001b[0m \u001b[39mdef\u001b[39;00m \u001b[39m_build_basetree\u001b[39m(\u001b[39mself\u001b[39m, z, r, z_grads, log_slice, direction, energy_current):\n\u001b[1;32m    198\u001b[0m     step_size \u001b[39m=\u001b[39m \u001b[39mself\u001b[39m\u001b[39m.\u001b[39mstep_size \u001b[39mif\u001b[39;00m direction \u001b[39m==\u001b[39m \u001b[39m1\u001b[39m \u001b[39melse\u001b[39;00m \u001b[39m-\u001b[39m\u001b[39mself\u001b[39m\u001b[39m.\u001b[39mstep_size\n\u001b[0;32m--> 199\u001b[0m     z_new, r_new, z_grads, potential_energy \u001b[39m=\u001b[39m velocity_verlet(\n\u001b[1;32m    200\u001b[0m         z,\n\u001b[1;32m    201\u001b[0m         r,\n\u001b[1;32m    202\u001b[0m         \u001b[39mself\u001b[39;49m\u001b[39m.\u001b[39;49mpotential_fn,\n\u001b[1;32m    203\u001b[0m         \u001b[39mself\u001b[39;49m\u001b[39m.\u001b[39;49mmass_matrix_adapter\u001b[39m.\u001b[39;49mkinetic_grad,\n\u001b[1;32m    204\u001b[0m         step_size,\n\u001b[1;32m    205\u001b[0m         z_grads\u001b[39m=\u001b[39;49mz_grads,\n\u001b[1;32m    206\u001b[0m     )\n\u001b[1;32m    207\u001b[0m     r_new_unscaled \u001b[39m=\u001b[39m \u001b[39mself\u001b[39m\u001b[39m.\u001b[39mmass_matrix_adapter\u001b[39m.\u001b[39munscale(r_new)\n\u001b[1;32m    208\u001b[0m     energy_new \u001b[39m=\u001b[39m potential_energy \u001b[39m+\u001b[39m \u001b[39mself\u001b[39m\u001b[39m.\u001b[39m_kinetic_energy(r_new_unscaled)\n",
      "File \u001b[0;32m/opt/miniconda3/lib/python3.9/site-packages/pyro/ops/integrator.py:39\u001b[0m, in \u001b[0;36mvelocity_verlet\u001b[0;34m(z, r, potential_fn, kinetic_grad, step_size, num_steps, z_grads)\u001b[0m\n\u001b[1;32m     37\u001b[0m r_next \u001b[39m=\u001b[39m r\u001b[39m.\u001b[39mcopy()\n\u001b[1;32m     38\u001b[0m \u001b[39mfor\u001b[39;00m _ \u001b[39min\u001b[39;00m \u001b[39mrange\u001b[39m(num_steps):\n\u001b[0;32m---> 39\u001b[0m     z_next, r_next, z_grads, potential_energy \u001b[39m=\u001b[39m _single_step_verlet(\n\u001b[1;32m     40\u001b[0m         z_next, r_next, potential_fn, kinetic_grad, step_size, z_grads\n\u001b[1;32m     41\u001b[0m     )\n\u001b[1;32m     42\u001b[0m \u001b[39mreturn\u001b[39;00m z_next, r_next, z_grads, potential_energy\n",
      "File \u001b[0;32m/opt/miniconda3/lib/python3.9/site-packages/pyro/ops/integrator.py:61\u001b[0m, in \u001b[0;36m_single_step_verlet\u001b[0;34m(z, r, potential_fn, kinetic_grad, step_size, z_grads)\u001b[0m\n\u001b[1;32m     58\u001b[0m \u001b[39mfor\u001b[39;00m site_name \u001b[39min\u001b[39;00m z:\n\u001b[1;32m     59\u001b[0m     z[site_name] \u001b[39m=\u001b[39m z[site_name] \u001b[39m+\u001b[39m step_size \u001b[39m*\u001b[39m r_grads[site_name]  \u001b[39m# z(n+1)\u001b[39;00m\n\u001b[0;32m---> 61\u001b[0m z_grads, potential_energy \u001b[39m=\u001b[39m potential_grad(potential_fn, z)\n\u001b[1;32m     62\u001b[0m \u001b[39mfor\u001b[39;00m site_name \u001b[39min\u001b[39;00m r:\n\u001b[1;32m     63\u001b[0m     r[site_name] \u001b[39m=\u001b[39m r[site_name] \u001b[39m+\u001b[39m \u001b[39m0.5\u001b[39m \u001b[39m*\u001b[39m step_size \u001b[39m*\u001b[39m (\u001b[39m-\u001b[39mz_grads[site_name])  \u001b[39m# r(n+1)\u001b[39;00m\n",
      "File \u001b[0;32m/opt/miniconda3/lib/python3.9/site-packages/pyro/ops/integrator.py:83\u001b[0m, in \u001b[0;36mpotential_grad\u001b[0;34m(potential_fn, z)\u001b[0m\n\u001b[1;32m     81\u001b[0m     node\u001b[39m.\u001b[39mrequires_grad_(\u001b[39mTrue\u001b[39;00m)\n\u001b[1;32m     82\u001b[0m \u001b[39mtry\u001b[39;00m:\n\u001b[0;32m---> 83\u001b[0m     potential_energy \u001b[39m=\u001b[39m potential_fn(z)\n\u001b[1;32m     84\u001b[0m \u001b[39m# handle exceptions as defined in the exception registry\u001b[39;00m\n\u001b[1;32m     85\u001b[0m \u001b[39mexcept\u001b[39;00m \u001b[39mException\u001b[39;00m \u001b[39mas\u001b[39;00m e:\n",
      "File \u001b[0;32m/opt/miniconda3/lib/python3.9/site-packages/pyro/infer/mcmc/util.py:278\u001b[0m, in \u001b[0;36m_PEMaker._potential_fn\u001b[0;34m(self, params)\u001b[0m\n\u001b[1;32m    276\u001b[0m params_constrained \u001b[39m=\u001b[39m {k: \u001b[39mself\u001b[39m\u001b[39m.\u001b[39mtransforms[k]\u001b[39m.\u001b[39minv(v) \u001b[39mfor\u001b[39;00m k, v \u001b[39min\u001b[39;00m params\u001b[39m.\u001b[39mitems()}\n\u001b[1;32m    277\u001b[0m cond_model \u001b[39m=\u001b[39m poutine\u001b[39m.\u001b[39mcondition(\u001b[39mself\u001b[39m\u001b[39m.\u001b[39mmodel, params_constrained)\n\u001b[0;32m--> 278\u001b[0m model_trace \u001b[39m=\u001b[39m poutine\u001b[39m.\u001b[39;49mtrace(cond_model)\u001b[39m.\u001b[39;49mget_trace(\n\u001b[1;32m    279\u001b[0m     \u001b[39m*\u001b[39;49m\u001b[39mself\u001b[39;49m\u001b[39m.\u001b[39;49mmodel_args, \u001b[39m*\u001b[39;49m\u001b[39m*\u001b[39;49m\u001b[39mself\u001b[39;49m\u001b[39m.\u001b[39;49mmodel_kwargs\n\u001b[1;32m    280\u001b[0m )\n\u001b[1;32m    281\u001b[0m log_joint \u001b[39m=\u001b[39m \u001b[39mself\u001b[39m\u001b[39m.\u001b[39mtrace_prob_evaluator\u001b[39m.\u001b[39mlog_prob(model_trace)\n\u001b[1;32m    282\u001b[0m \u001b[39mfor\u001b[39;00m name, t \u001b[39min\u001b[39;00m \u001b[39mself\u001b[39m\u001b[39m.\u001b[39mtransforms\u001b[39m.\u001b[39mitems():\n",
      "File \u001b[0;32m/opt/miniconda3/lib/python3.9/site-packages/pyro/poutine/trace_messenger.py:198\u001b[0m, in \u001b[0;36mTraceHandler.get_trace\u001b[0;34m(self, *args, **kwargs)\u001b[0m\n\u001b[1;32m    190\u001b[0m \u001b[39mdef\u001b[39;00m \u001b[39mget_trace\u001b[39m(\u001b[39mself\u001b[39m, \u001b[39m*\u001b[39margs, \u001b[39m*\u001b[39m\u001b[39m*\u001b[39mkwargs):\n\u001b[1;32m    191\u001b[0m     \u001b[39m\"\"\"\u001b[39;00m\n\u001b[1;32m    192\u001b[0m \u001b[39m    :returns: data structure\u001b[39;00m\n\u001b[1;32m    193\u001b[0m \u001b[39m    :rtype: pyro.poutine.Trace\u001b[39;00m\n\u001b[0;32m   (...)\u001b[0m\n\u001b[1;32m    196\u001b[0m \u001b[39m    Calls this poutine and returns its trace instead of the function's return value.\u001b[39;00m\n\u001b[1;32m    197\u001b[0m \u001b[39m    \"\"\"\u001b[39;00m\n\u001b[0;32m--> 198\u001b[0m     \u001b[39mself\u001b[39;49m(\u001b[39m*\u001b[39;49margs, \u001b[39m*\u001b[39;49m\u001b[39m*\u001b[39;49mkwargs)\n\u001b[1;32m    199\u001b[0m     \u001b[39mreturn\u001b[39;00m \u001b[39mself\u001b[39m\u001b[39m.\u001b[39mmsngr\u001b[39m.\u001b[39mget_trace()\n",
      "File \u001b[0;32m/opt/miniconda3/lib/python3.9/site-packages/pyro/poutine/trace_messenger.py:174\u001b[0m, in \u001b[0;36mTraceHandler.__call__\u001b[0;34m(self, *args, **kwargs)\u001b[0m\n\u001b[1;32m    170\u001b[0m \u001b[39mself\u001b[39m\u001b[39m.\u001b[39mmsngr\u001b[39m.\u001b[39mtrace\u001b[39m.\u001b[39madd_node(\n\u001b[1;32m    171\u001b[0m     \u001b[39m\"\u001b[39m\u001b[39m_INPUT\u001b[39m\u001b[39m\"\u001b[39m, name\u001b[39m=\u001b[39m\u001b[39m\"\u001b[39m\u001b[39m_INPUT\u001b[39m\u001b[39m\"\u001b[39m, \u001b[39mtype\u001b[39m\u001b[39m=\u001b[39m\u001b[39m\"\u001b[39m\u001b[39margs\u001b[39m\u001b[39m\"\u001b[39m, args\u001b[39m=\u001b[39margs, kwargs\u001b[39m=\u001b[39mkwargs\n\u001b[1;32m    172\u001b[0m )\n\u001b[1;32m    173\u001b[0m \u001b[39mtry\u001b[39;00m:\n\u001b[0;32m--> 174\u001b[0m     ret \u001b[39m=\u001b[39m \u001b[39mself\u001b[39;49m\u001b[39m.\u001b[39;49mfn(\u001b[39m*\u001b[39;49margs, \u001b[39m*\u001b[39;49m\u001b[39m*\u001b[39;49mkwargs)\n\u001b[1;32m    175\u001b[0m \u001b[39mexcept\u001b[39;00m (\u001b[39mValueError\u001b[39;00m, \u001b[39mRuntimeError\u001b[39;00m) \u001b[39mas\u001b[39;00m e:\n\u001b[1;32m    176\u001b[0m     exc_type, exc_value, traceback \u001b[39m=\u001b[39m sys\u001b[39m.\u001b[39mexc_info()\n",
      "File \u001b[0;32m/opt/miniconda3/lib/python3.9/site-packages/pyro/poutine/messenger.py:12\u001b[0m, in \u001b[0;36m_context_wrap\u001b[0;34m(context, fn, *args, **kwargs)\u001b[0m\n\u001b[1;32m     10\u001b[0m \u001b[39mdef\u001b[39;00m \u001b[39m_context_wrap\u001b[39m(context, fn, \u001b[39m*\u001b[39margs, \u001b[39m*\u001b[39m\u001b[39m*\u001b[39mkwargs):\n\u001b[1;32m     11\u001b[0m     \u001b[39mwith\u001b[39;00m context:\n\u001b[0;32m---> 12\u001b[0m         \u001b[39mreturn\u001b[39;00m fn(\u001b[39m*\u001b[39;49margs, \u001b[39m*\u001b[39;49m\u001b[39m*\u001b[39;49mkwargs)\n",
      "File \u001b[0;32m/opt/miniconda3/lib/python3.9/site-packages/pyro/poutine/messenger.py:12\u001b[0m, in \u001b[0;36m_context_wrap\u001b[0;34m(context, fn, *args, **kwargs)\u001b[0m\n\u001b[1;32m     10\u001b[0m \u001b[39mdef\u001b[39;00m \u001b[39m_context_wrap\u001b[39m(context, fn, \u001b[39m*\u001b[39margs, \u001b[39m*\u001b[39m\u001b[39m*\u001b[39mkwargs):\n\u001b[1;32m     11\u001b[0m     \u001b[39mwith\u001b[39;00m context:\n\u001b[0;32m---> 12\u001b[0m         \u001b[39mreturn\u001b[39;00m fn(\u001b[39m*\u001b[39;49margs, \u001b[39m*\u001b[39;49m\u001b[39m*\u001b[39;49mkwargs)\n",
      "File \u001b[0;32m/opt/miniconda3/lib/python3.9/site-packages/pyro/poutine/messenger.py:12\u001b[0m, in \u001b[0;36m_context_wrap\u001b[0;34m(context, fn, *args, **kwargs)\u001b[0m\n\u001b[1;32m     10\u001b[0m \u001b[39mdef\u001b[39;00m \u001b[39m_context_wrap\u001b[39m(context, fn, \u001b[39m*\u001b[39margs, \u001b[39m*\u001b[39m\u001b[39m*\u001b[39mkwargs):\n\u001b[1;32m     11\u001b[0m     \u001b[39mwith\u001b[39;00m context:\n\u001b[0;32m---> 12\u001b[0m         \u001b[39mreturn\u001b[39;00m fn(\u001b[39m*\u001b[39;49margs, \u001b[39m*\u001b[39;49m\u001b[39m*\u001b[39;49mkwargs)\n",
      "\u001b[1;32m/Users/pablotaboasrivss/Library/CloudStorage/OneDrive-DanmarksTekniskeUniversitet/Master/Thesis/BayesianVibrationsModeling/notebooks/comsol.ipynb Cell 8\u001b[0m in \u001b[0;36mmodel_YoungDampingDensity\u001b[0;34m(x, y_obs)\u001b[0m\n\u001b[1;32m     <a href='vscode-notebook-cell:/Users/pablotaboasrivss/Library/CloudStorage/OneDrive-DanmarksTekniskeUniversitet/Master/Thesis/BayesianVibrationsModeling/notebooks/comsol.ipynb#X10sZmlsZQ%3D%3D?line=17'>18</a>\u001b[0m \u001b[39mwith\u001b[39;00m pyro\u001b[39m.\u001b[39mplate(\u001b[39m\"\u001b[39m\u001b[39mdata\u001b[39m\u001b[39m\"\u001b[39m, \u001b[39mlen\u001b[39m(y_obs)):\n\u001b[1;32m     <a href='vscode-notebook-cell:/Users/pablotaboasrivss/Library/CloudStorage/OneDrive-DanmarksTekniskeUniversitet/Master/Thesis/BayesianVibrationsModeling/notebooks/comsol.ipynb#X10sZmlsZQ%3D%3D?line=18'>19</a>\u001b[0m     \u001b[39m#updateParam(model, young=E.detach().numpy(), rho=rho.detach().numpy(), eta=eta.detach().numpy(), freq=x[i])\u001b[39;00m\n\u001b[1;32m     <a href='vscode-notebook-cell:/Users/pablotaboasrivss/Library/CloudStorage/OneDrive-DanmarksTekniskeUniversitet/Master/Thesis/BayesianVibrationsModeling/notebooks/comsol.ipynb#X10sZmlsZQ%3D%3D?line=20'>21</a>\u001b[0m     updateParam(model, young\u001b[39m=\u001b[39mE\u001b[39m.\u001b[39mdetach()\u001b[39m.\u001b[39mnumpy(), rho\u001b[39m=\u001b[39mrho\u001b[39m.\u001b[39mdetach()\u001b[39m.\u001b[39mnumpy())\n\u001b[0;32m---> <a href='vscode-notebook-cell:/Users/pablotaboasrivss/Library/CloudStorage/OneDrive-DanmarksTekniskeUniversitet/Master/Thesis/BayesianVibrationsModeling/notebooks/comsol.ipynb#X10sZmlsZQ%3D%3D?line=21'>22</a>\u001b[0m     model\u001b[39m.\u001b[39;49msolve(\u001b[39m\"\u001b[39;49m\u001b[39mStudy 3\u001b[39;49m\u001b[39m\"\u001b[39;49m)\n\u001b[1;32m     <a href='vscode-notebook-cell:/Users/pablotaboasrivss/Library/CloudStorage/OneDrive-DanmarksTekniskeUniversitet/Master/Thesis/BayesianVibrationsModeling/notebooks/comsol.ipynb#X10sZmlsZQ%3D%3D?line=22'>23</a>\u001b[0m     comsolResults \u001b[39m=\u001b[39m \u001b[39mabs\u001b[39m(model\u001b[39m.\u001b[39mevaluate(\u001b[39m'\u001b[39m\u001b[39mcomp1.point1\u001b[39m\u001b[39m'\u001b[39m))\n\u001b[1;32m     <a href='vscode-notebook-cell:/Users/pablotaboasrivss/Library/CloudStorage/OneDrive-DanmarksTekniskeUniversitet/Master/Thesis/BayesianVibrationsModeling/notebooks/comsol.ipynb#X10sZmlsZQ%3D%3D?line=23'>24</a>\u001b[0m     \u001b[39m#print(y_obs[i])\u001b[39;00m\n",
      "File \u001b[0;32m/opt/miniconda3/lib/python3.9/site-packages/mph/model.py:349\u001b[0m, in \u001b[0;36mModel.solve\u001b[0;34m(self, study)\u001b[0m\n\u001b[1;32m    347\u001b[0m \u001b[39mfor\u001b[39;00m node \u001b[39min\u001b[39;00m nodes:\n\u001b[1;32m    348\u001b[0m     log\u001b[39m.\u001b[39minfo(\u001b[39mf\u001b[39m\u001b[39m'\u001b[39m\u001b[39mRunning study \u001b[39m\u001b[39m\"\u001b[39m\u001b[39m{\u001b[39;00mnode\u001b[39m.\u001b[39mname()\u001b[39m}\u001b[39;00m\u001b[39m\"\u001b[39m\u001b[39m.\u001b[39m\u001b[39m'\u001b[39m)\n\u001b[0;32m--> 349\u001b[0m     node\u001b[39m.\u001b[39;49mrun()\n\u001b[1;32m    350\u001b[0m     log\u001b[39m.\u001b[39minfo(\u001b[39m'\u001b[39m\u001b[39mFinished solving study.\u001b[39m\u001b[39m'\u001b[39m)\n",
      "File \u001b[0;32m/opt/miniconda3/lib/python3.9/site-packages/mph/node.py:546\u001b[0m, in \u001b[0;36mNode.run\u001b[0;34m(self)\u001b[0m\n\u001b[1;32m    544\u001b[0m     log\u001b[39m.\u001b[39merror(error)\n\u001b[1;32m    545\u001b[0m     \u001b[39mraise\u001b[39;00m \u001b[39mRuntimeError\u001b[39;00m(error)\n\u001b[0;32m--> 546\u001b[0m java\u001b[39m.\u001b[39;49mrun()\n",
      "\u001b[0;31mKeyboardInterrupt\u001b[0m: "
     ]
    }
   ],
   "source": [
    "\n",
    "pyro.clear_param_store()\n",
    "y_obs = Y_exp# Suppose this was the vector of observed y's\n",
    "input_x = freqVal\n",
    "pyro.render_model(model_YoungDampingDensity, model_args=(input_x, torch.tensor(y_obs)), render_distributions=True)\n",
    "\n",
    "nuts_kernel = NUTS(model_YoungDampingDensity)\n",
    "mcmc = MCMC(nuts_kernel, num_samples=100, warmup_steps=10, num_chains=1)        \n",
    "mcmc.run(input_x, torch.tensor(y_obs))\n",
    "\n",
    "# Show summary of inference results\n",
    "mcmc.summary()\n",
    "posterior_samples = mcmc.get_samples()\n",
    "\n",
    "\n",
    "sns.displot(posterior_samples[\"E\"]*10e10)\n",
    "plt.xlabel(\"Young's modulus values\")\n",
    "plt.show()\n",
    "        \n",
    "sns.displot(posterior_samples[\"rho\"]*10e10)\n",
    "plt.xlabel(\"density values\")\n",
    "plt.show()"
   ]
  },
  {
   "cell_type": "code",
   "execution_count": 32,
   "metadata": {},
   "outputs": [],
   "source": [
    "updateParam(model, young=1, rho=1)\n",
    "model.solve(\"Study 3\")\n",
    "comsolResults = abs(model.evaluate('comp1.point1'))\n",
    "# range of values used for the comsol studio\n",
    "# range(10, 10, 470) range(470, 1, 520) range(520, 5, 600) range(600, 1,700) range(700, 10,1350) range(1350,1, 1390) range(1390,20,1570) range(1570,1,1630) range(1630,100,2650) range(2650,1,2750) range(2750, 20 ,2950) range(2950, 1, 3050)"
   ]
  },
  {
   "cell_type": "markdown",
   "metadata": {},
   "source": [
    "## Variational inference"
   ]
  },
  {
   "cell_type": "code",
   "execution_count": 33,
   "metadata": {},
   "outputs": [
    {
     "data": {
      "text/plain": [
       "array([1.43188632, 5.17247802, 0.98652631, 0.54271964, 0.37580206,\n",
       "       0.28832876, 0.23448936, 0.19801089, 0.17165904, 0.15172836,\n",
       "       0.1361246 , 0.11912321, 0.11079963, 0.1035894 , 0.09728323,\n",
       "       0.09172118, 0.08677889, 0.08235824, 0.07838079, 0.07478304,\n",
       "       0.07151309, 0.06852807, 0.05282683, 0.05091879, 0.0491489 ,\n",
       "       0.0475027 , 0.04596766, 0.04453291, 0.04318893, 0.03009313,\n",
       "       0.02935285, 0.02864992, 0.02798159, 0.02734537, 0.026739  ,\n",
       "       0.02616044, 0.02560782, 0.02507943])"
      ]
     },
     "execution_count": 33,
     "metadata": {},
     "output_type": "execute_result"
    }
   ],
   "source": [
    "from pyro.optim import Adam\n",
    "\n",
    "pyro.clear_param_store()\n",
    "y_obs = Y_exp# Suppose this was the vector of observed y's\n",
    "input_x = freqVal\n",
    "#pyro.render_model(model_YoungDampingDensity, model_args=(input_x, torch.tensor(y_obs)), render_distributions=True)\n",
    "\n",
    "# Defining optimizeer\n",
    "adam_params = {\"lr\": 0.005, \"betas\": (0.95, 0.999)}\n",
    "optimizer = Adam(adam_params)\n",
    "\n",
    "nuts_kernel = NUTS(model_YoungDampingDensity)\n",
    "mcmc = MCMC(nuts_kernel, num_samples=100, warmup_steps=10, num_chains=1)        \n",
    "mcmc.run(input_x, torch.tensor(y_obs))\n",
    "\n",
    "# Show summary of inference results\n",
    "mcmc.summary()\n",
    "posterior_samples = mcmc.get_samples()\n",
    "\n",
    "\n",
    "sns.displot(posterior_samples[\"E\"]*10e10)\n",
    "plt.xlabel(\"Young's modulus values\")\n",
    "plt.show()\n",
    "        \n",
    "sns.displot(posterior_samples[\"rho\"]*10e10)\n",
    "plt.xlabel(\"density values\")\n",
    "plt.show()"
   ]
  },
  {
   "cell_type": "code",
   "execution_count": 31,
   "metadata": {},
   "outputs": [
    {
     "ename": "SyntaxError",
     "evalue": "invalid syntax (3978514635.py, line 1)",
     "output_type": "error",
     "traceback": [
      "\u001b[0;36m  Input \u001b[0;32mIn [31]\u001b[0;36m\u001b[0m\n\u001b[0;31m    range(117.50,0.50,122.50) range(645.50,0.50,650.50) range(1597.50,0.50,1600.50) range(2977.50,0.50,2981.50)\u001b[0m\n\u001b[0m                              ^\u001b[0m\n\u001b[0;31mSyntaxError\u001b[0m\u001b[0;31m:\u001b[0m invalid syntax\n"
     ]
    }
   ],
   "source": [
    "range(117.50,0.50,122.50) range(645.50,0.50,650.50) range(1597.50,0.50,1600.50) range(2977.50,0.50,2981.50) "
   ]
  },
  {
   "cell_type": "code",
   "execution_count": 11,
   "metadata": {},
   "outputs": [
    {
     "ename": "NameError",
     "evalue": "name 'architectures' is not defined",
     "output_type": "error",
     "traceback": [
      "\u001b[0;31m---------------------------------------------------------------------------\u001b[0m",
      "\u001b[0;31mNameError\u001b[0m                                 Traceback (most recent call last)",
      "\u001b[1;32m/Users/pablotaboasrivss/Library/CloudStorage/OneDrive-DanmarksTekniskeUniversitet/Master/Thesis/BayesianVibrationsModeling/comsol.ipynb Cell 12\u001b[0m in \u001b[0;36m<cell line: 1>\u001b[0;34m()\u001b[0m\n\u001b[0;32m----> <a href='vscode-notebook-cell:/Users/pablotaboasrivss/Library/CloudStorage/OneDrive-DanmarksTekniskeUniversitet/Master/Thesis/BayesianVibrationsModeling/comsol.ipynb#X11sZmlsZQ%3D%3D?line=0'>1</a>\u001b[0m \u001b[39mfor\u001b[39;00m arch \u001b[39min\u001b[39;00m architectures[\u001b[39m'\u001b[39m\u001b[39mDarwin\u001b[39m\u001b[39m'\u001b[39m]:\n\u001b[1;32m      <a href='vscode-notebook-cell:/Users/pablotaboasrivss/Library/CloudStorage/OneDrive-DanmarksTekniskeUniversitet/Master/Thesis/BayesianVibrationsModeling/comsol.ipynb#X11sZmlsZQ%3D%3D?line=1'>2</a>\u001b[0m             comsol \u001b[39m=\u001b[39m root\u001b[39m/\u001b[39m\u001b[39m'\u001b[39m\u001b[39mbin\u001b[39m\u001b[39m'\u001b[39m\u001b[39m/\u001b[39march\u001b[39m/\u001b[39m\u001b[39m'\u001b[39m\u001b[39mcomsol\u001b[39m\u001b[39m'\u001b[39m\n\u001b[1;32m      <a href='vscode-notebook-cell:/Users/pablotaboasrivss/Library/CloudStorage/OneDrive-DanmarksTekniskeUniversitet/Master/Thesis/BayesianVibrationsModeling/comsol.ipynb#X11sZmlsZQ%3D%3D?line=2'>3</a>\u001b[0m             \u001b[39mif\u001b[39;00m comsol\u001b[39m.\u001b[39mis_file():\n",
      "\u001b[0;31mNameError\u001b[0m: name 'architectures' is not defined"
     ]
    }
   ],
   "source": [
    "for arch in architectures['Darwin']:\n",
    "            comsol = root/'bin'/arch/'comsol'\n",
    "            if comsol.is_file():\n",
    "                print(\"here\")\n",
    "                break"
   ]
  },
  {
   "cell_type": "code",
   "execution_count": 14,
   "metadata": {},
   "outputs": [],
   "source": [
    "updateParam(model, young=0.9, rho=1.1)\n",
    "model.solve(\"Study 3\")\n",
    "comsolResults = abs(model.evaluate('comp1.point1'))"
   ]
  },
  {
   "cell_type": "code",
   "execution_count": 9,
   "metadata": {},
   "outputs": [
    {
     "name": "stdout",
     "output_type": "stream",
     "text": [
      "running iterations\n"
     ]
    },
    {
     "ename": "NameError",
     "evalue": "name 'y_obs' is not defined",
     "output_type": "error",
     "traceback": [
      "\u001b[0;31m---------------------------------------------------------------------------\u001b[0m",
      "\u001b[0;31mNameError\u001b[0m                                 Traceback (most recent call last)",
      "\u001b[1;32m/Users/pablotaboasrivss/Library/CloudStorage/OneDrive-DanmarksTekniskeUniversitet/Master/Thesis/BayesianVibrationsModeling/notebooks/comsol.ipynb Cell 13\u001b[0m in \u001b[0;36m<cell line: 32>\u001b[0;34m()\u001b[0m\n\u001b[1;32m     <a href='vscode-notebook-cell:/Users/pablotaboasrivss/Library/CloudStorage/OneDrive-DanmarksTekniskeUniversitet/Master/Thesis/BayesianVibrationsModeling/notebooks/comsol.ipynb#X15sZmlsZQ%3D%3D?line=28'>29</a>\u001b[0m     \u001b[39mreturn\u001b[39;00m y\n\u001b[1;32m     <a href='vscode-notebook-cell:/Users/pablotaboasrivss/Library/CloudStorage/OneDrive-DanmarksTekniskeUniversitet/Master/Thesis/BayesianVibrationsModeling/notebooks/comsol.ipynb#X15sZmlsZQ%3D%3D?line=30'>31</a>\u001b[0m pyro\u001b[39m.\u001b[39mclear_param_store()\n\u001b[0;32m---> <a href='vscode-notebook-cell:/Users/pablotaboasrivss/Library/CloudStorage/OneDrive-DanmarksTekniskeUniversitet/Master/Thesis/BayesianVibrationsModeling/notebooks/comsol.ipynb#X15sZmlsZQ%3D%3D?line=31'>32</a>\u001b[0m pyro\u001b[39m.\u001b[39;49mrender_model(modelTest, render_distributions\u001b[39m=\u001b[39;49m\u001b[39mTrue\u001b[39;49;00m)\n\u001b[1;32m     <a href='vscode-notebook-cell:/Users/pablotaboasrivss/Library/CloudStorage/OneDrive-DanmarksTekniskeUniversitet/Master/Thesis/BayesianVibrationsModeling/notebooks/comsol.ipynb#X15sZmlsZQ%3D%3D?line=33'>34</a>\u001b[0m freq \u001b[39m=\u001b[39m pd\u001b[39m.\u001b[39mread_csv(\u001b[39m\"\u001b[39m\u001b[39m.Data/bend/pointTableComsol.csv\u001b[39m\u001b[39m\"\u001b[39m)\n\u001b[1;32m     <a href='vscode-notebook-cell:/Users/pablotaboasrivss/Library/CloudStorage/OneDrive-DanmarksTekniskeUniversitet/Master/Thesis/BayesianVibrationsModeling/notebooks/comsol.ipynb#X15sZmlsZQ%3D%3D?line=35'>36</a>\u001b[0m nuts_kernel \u001b[39m=\u001b[39m NUTS(modelTest)\n",
      "File \u001b[0;32m/opt/miniconda3/lib/python3.9/site-packages/pyro/infer/inspect.py:584\u001b[0m, in \u001b[0;36mrender_model\u001b[0;34m(model, model_args, model_kwargs, filename, render_distributions, render_params)\u001b[0m\n\u001b[1;32m    582\u001b[0m \u001b[39m# Get model relations.\u001b[39;00m\n\u001b[1;32m    583\u001b[0m \u001b[39mif\u001b[39;00m \u001b[39mnot\u001b[39;00m \u001b[39misinstance\u001b[39m(model_args, \u001b[39mlist\u001b[39m) \u001b[39mand\u001b[39;00m \u001b[39mnot\u001b[39;00m \u001b[39misinstance\u001b[39m(model_kwargs, \u001b[39mlist\u001b[39m):\n\u001b[0;32m--> 584\u001b[0m     relations \u001b[39m=\u001b[39m [get_model_relations(model, model_args, model_kwargs)]\n\u001b[1;32m    585\u001b[0m \u001b[39melse\u001b[39;00m:  \u001b[39m# semisupervised\u001b[39;00m\n\u001b[1;32m    586\u001b[0m     \u001b[39mif\u001b[39;00m \u001b[39misinstance\u001b[39m(model_args, \u001b[39mlist\u001b[39m):\n",
      "File \u001b[0;32m/opt/miniconda3/lib/python3.9/site-packages/pyro/infer/inspect.py:284\u001b[0m, in \u001b[0;36mget_model_relations\u001b[0;34m(model, model_args, model_kwargs)\u001b[0m\n\u001b[1;32m    282\u001b[0m \u001b[39mwith\u001b[39;00m torch\u001b[39m.\u001b[39mrandom\u001b[39m.\u001b[39mfork_rng(), torch\u001b[39m.\u001b[39mno_grad(), pyro\u001b[39m.\u001b[39mvalidation_enabled(\u001b[39mFalse\u001b[39;00m):\n\u001b[1;32m    283\u001b[0m     \u001b[39mwith\u001b[39;00m TrackProvenance():\n\u001b[0;32m--> 284\u001b[0m         trace \u001b[39m=\u001b[39m poutine\u001b[39m.\u001b[39;49mtrace(model)\u001b[39m.\u001b[39;49mget_trace(\u001b[39m*\u001b[39;49mmodel_args, \u001b[39m*\u001b[39;49m\u001b[39m*\u001b[39;49mmodel_kwargs)\n\u001b[1;32m    286\u001b[0m sample_sample \u001b[39m=\u001b[39m {}\n\u001b[1;32m    287\u001b[0m sample_param \u001b[39m=\u001b[39m {}\n",
      "File \u001b[0;32m/opt/miniconda3/lib/python3.9/site-packages/pyro/poutine/trace_messenger.py:198\u001b[0m, in \u001b[0;36mTraceHandler.get_trace\u001b[0;34m(self, *args, **kwargs)\u001b[0m\n\u001b[1;32m    190\u001b[0m \u001b[39mdef\u001b[39;00m \u001b[39mget_trace\u001b[39m(\u001b[39mself\u001b[39m, \u001b[39m*\u001b[39margs, \u001b[39m*\u001b[39m\u001b[39m*\u001b[39mkwargs):\n\u001b[1;32m    191\u001b[0m     \u001b[39m\"\"\"\u001b[39;00m\n\u001b[1;32m    192\u001b[0m \u001b[39m    :returns: data structure\u001b[39;00m\n\u001b[1;32m    193\u001b[0m \u001b[39m    :rtype: pyro.poutine.Trace\u001b[39;00m\n\u001b[0;32m   (...)\u001b[0m\n\u001b[1;32m    196\u001b[0m \u001b[39m    Calls this poutine and returns its trace instead of the function's return value.\u001b[39;00m\n\u001b[1;32m    197\u001b[0m \u001b[39m    \"\"\"\u001b[39;00m\n\u001b[0;32m--> 198\u001b[0m     \u001b[39mself\u001b[39;49m(\u001b[39m*\u001b[39;49margs, \u001b[39m*\u001b[39;49m\u001b[39m*\u001b[39;49mkwargs)\n\u001b[1;32m    199\u001b[0m     \u001b[39mreturn\u001b[39;00m \u001b[39mself\u001b[39m\u001b[39m.\u001b[39mmsngr\u001b[39m.\u001b[39mget_trace()\n",
      "File \u001b[0;32m/opt/miniconda3/lib/python3.9/site-packages/pyro/poutine/trace_messenger.py:174\u001b[0m, in \u001b[0;36mTraceHandler.__call__\u001b[0;34m(self, *args, **kwargs)\u001b[0m\n\u001b[1;32m    170\u001b[0m \u001b[39mself\u001b[39m\u001b[39m.\u001b[39mmsngr\u001b[39m.\u001b[39mtrace\u001b[39m.\u001b[39madd_node(\n\u001b[1;32m    171\u001b[0m     \u001b[39m\"\u001b[39m\u001b[39m_INPUT\u001b[39m\u001b[39m\"\u001b[39m, name\u001b[39m=\u001b[39m\u001b[39m\"\u001b[39m\u001b[39m_INPUT\u001b[39m\u001b[39m\"\u001b[39m, \u001b[39mtype\u001b[39m\u001b[39m=\u001b[39m\u001b[39m\"\u001b[39m\u001b[39margs\u001b[39m\u001b[39m\"\u001b[39m, args\u001b[39m=\u001b[39margs, kwargs\u001b[39m=\u001b[39mkwargs\n\u001b[1;32m    172\u001b[0m )\n\u001b[1;32m    173\u001b[0m \u001b[39mtry\u001b[39;00m:\n\u001b[0;32m--> 174\u001b[0m     ret \u001b[39m=\u001b[39m \u001b[39mself\u001b[39;49m\u001b[39m.\u001b[39;49mfn(\u001b[39m*\u001b[39;49margs, \u001b[39m*\u001b[39;49m\u001b[39m*\u001b[39;49mkwargs)\n\u001b[1;32m    175\u001b[0m \u001b[39mexcept\u001b[39;00m (\u001b[39mValueError\u001b[39;00m, \u001b[39mRuntimeError\u001b[39;00m) \u001b[39mas\u001b[39;00m e:\n\u001b[1;32m    176\u001b[0m     exc_type, exc_value, traceback \u001b[39m=\u001b[39m sys\u001b[39m.\u001b[39mexc_info()\n",
      "\u001b[1;32m/Users/pablotaboasrivss/Library/CloudStorage/OneDrive-DanmarksTekniskeUniversitet/Master/Thesis/BayesianVibrationsModeling/notebooks/comsol.ipynb Cell 13\u001b[0m in \u001b[0;36mmodelTest\u001b[0;34m()\u001b[0m\n\u001b[1;32m     <a href='vscode-notebook-cell:/Users/pablotaboasrivss/Library/CloudStorage/OneDrive-DanmarksTekniskeUniversitet/Master/Thesis/BayesianVibrationsModeling/notebooks/comsol.ipynb#X15sZmlsZQ%3D%3D?line=21'>22</a>\u001b[0m E \u001b[39m=\u001b[39m pyro\u001b[39m.\u001b[39msample(\u001b[39m\"\u001b[39m\u001b[39mE\u001b[39m\u001b[39m\"\u001b[39m, dist\u001b[39m.\u001b[39mNormal(E_mean, E_var))\n\u001b[1;32m     <a href='vscode-notebook-cell:/Users/pablotaboasrivss/Library/CloudStorage/OneDrive-DanmarksTekniskeUniversitet/Master/Thesis/BayesianVibrationsModeling/notebooks/comsol.ipynb#X15sZmlsZQ%3D%3D?line=22'>23</a>\u001b[0m \u001b[39mprint\u001b[39m(\u001b[39m\"\u001b[39m\u001b[39mrunning iterations\u001b[39m\u001b[39m\"\u001b[39m)\n\u001b[0;32m---> <a href='vscode-notebook-cell:/Users/pablotaboasrivss/Library/CloudStorage/OneDrive-DanmarksTekniskeUniversitet/Master/Thesis/BayesianVibrationsModeling/notebooks/comsol.ipynb#X15sZmlsZQ%3D%3D?line=23'>24</a>\u001b[0m \u001b[39mwith\u001b[39;00m pyro\u001b[39m.\u001b[39mplate(\u001b[39m\"\u001b[39m\u001b[39mdata\u001b[39m\u001b[39m\"\u001b[39m, y_obs\u001b[39m.\u001b[39mshape[\u001b[39m1\u001b[39m]):\n\u001b[1;32m     <a href='vscode-notebook-cell:/Users/pablotaboasrivss/Library/CloudStorage/OneDrive-DanmarksTekniskeUniversitet/Master/Thesis/BayesianVibrationsModeling/notebooks/comsol.ipynb#X15sZmlsZQ%3D%3D?line=24'>25</a>\u001b[0m     updateParam(model, young\u001b[39m=\u001b[39mE)\n\u001b[1;32m     <a href='vscode-notebook-cell:/Users/pablotaboasrivss/Library/CloudStorage/OneDrive-DanmarksTekniskeUniversitet/Master/Thesis/BayesianVibrationsModeling/notebooks/comsol.ipynb#X15sZmlsZQ%3D%3D?line=25'>26</a>\u001b[0m     model\u001b[39m.\u001b[39msolve(\u001b[39m\"\u001b[39m\u001b[39mStudy 3\u001b[39m\u001b[39m\"\u001b[39m)\n",
      "\u001b[0;31mNameError\u001b[0m: name 'y_obs' is not defined"
     ]
    }
   ],
   "source": [
    "import numpy as np\n",
    "import pandas as pd\n",
    "import pyro\n",
    "import pyro.distributions as dist\n",
    "from pyro.infer import SVI, Trace_ELBO, MCMC, NUTS\n",
    "\n",
    "import torch\n",
    "from torch.distributions import constraints\n",
    "\n",
    "import matplotlib.pyplot as plt\n",
    "import seaborn as sns\n",
    "\n",
    "import graphviz\n",
    "def updateParam(model, young=10e10, rho=8.34e3, eta=0.01):\n",
    "    model.parameter('Youngs', str(young)+' [Pa]')\n",
    "    model.parameter('density', str(rho)+' [kg/m^3]')\n",
    "    model.parameter('damping', str(eta)+' [Pa]')\n",
    "\n",
    "def modelTest():\n",
    "    E_mean = pyro.param(\"E_mean\", dist.Normal(1, 3.))\n",
    "    E_var = pyro.param(\"E_var\", dist.Cauchy(1., 0.))\n",
    "    E = pyro.sample(\"E\", dist.Normal(E_mean, E_var))\n",
    "    print(\"running iterations\")\n",
    "    with pyro.plate(\"data\", y_obs.shape[1]):\n",
    "        updateParam(model, young=E)\n",
    "        model.solve(\"Study 3\")\n",
    "        y_values = model.evaluate('comp1.point1')\n",
    "        y = pyro.sample(\"y\", dist.Normal(y_values, 1.), )\n",
    "    return y\n",
    "\n",
    "pyro.clear_param_store()\n",
    "pyro.render_model(modelTest, render_distributions=True)\n",
    "\n",
    "freq = pd.read_csv(\".Data/bend/pointTableComsol.csv\")\n",
    "\n",
    "nuts_kernel = NUTS(modelTest)\n",
    "mcmc = MCMC(nuts_kernel, warmup_steps=2, num_chains=1)        \n",
    "mcmc.run()\n",
    "\n",
    "# Show summary of inference results\n",
    "mcmc.summary()\n",
    "posterior_samples = mcmc.get_samples()\n",
    "\n",
    "sns.displot(posterior_samples[\"E\"]*10e10)\n",
    "plt.xlabel(\"Young's modulus values\")\n",
    "plt.show()\n",
    "        \n",
    "sns.displot(posterior_samples[\"rho\"]*10e10)\n",
    "plt.xlabel(\"density values\")\n",
    "plt.show()\n",
    "return"
   ]
  },
  {
   "cell_type": "code",
   "execution_count": 14,
   "metadata": {},
   "outputs": [],
   "source": [
    "freq = pd.read_csv(\"./Data/bend/pointTableComsol.csv\")\n"
   ]
  },
  {
   "cell_type": "code",
   "execution_count": 15,
   "metadata": {},
   "outputs": [
    {
     "data": {
      "text/plain": [
       "array(['10', '20', '30', '40', '50', '60', '70', '80', '90', '100', '110',\n",
       "       '120', '130', '140', '150', '160', '170', '180', '190', '200',\n",
       "       '210', '220', '230', '240', '250', '260', '270', '280', '290',\n",
       "       '300', '310', '320', '330'], dtype=object)"
      ]
     },
     "execution_count": 15,
     "metadata": {},
     "output_type": "execute_result"
    }
   ],
   "source": [
    "freq['% Model'][4:].values"
   ]
  },
  {
   "cell_type": "code",
   "execution_count": 10,
   "metadata": {},
   "outputs": [
    {
     "ename": "com.comsol.util.exceptions.FlException",
     "evalue": "Exception:\n\tcom.comsol.util.exceptions.FlException: The following feature has encountered a problem\nMessages:\n\tThe following feature has encountered a problem:\n\t- Feature: Compile Equations: Frequency Domain (sol1/st1)\n\n\tError in multiphysics compilation.\n\n\tSyntax error in expression.\n\t- Expression: 10^(range(log10(10.00),1.67,log10(470.00))) 10^(range(log10(520.00),0.04,log10(520.00))) 10^(range(log10(538.94),0.02,log10(600.00))) 10^(range(log10(700.00),0.07,log10(700.00))) 10^(range(log10(724.62),0.02,log10(1350.00))) 10^(range(log10(1390.00),0.01,log10(1390.00))) 10^(range(log10(1398.94),0.00,log10(1570.00))) 10^(range(log10(1630.00),0.02,log10(1630.00))) 10^(range(log10(1638.02),0.00,log10(2650.00))) 10^(range(log10(2750.00),0.02,log10(2750.00))) 10^(range(log10(2760.18),0.00,log10(2950.00))) 10^(range(log10(3050.00),0.01,log10(3050.00))) [Hz]\n\t- Subexpression: 10^(range(log10(520. ...\n\t- Position: 45\n",
     "output_type": "error",
     "traceback": [
      "\u001b[0;31m---------------------------------------------------------------------------\u001b[0m",
      "\u001b[0;31mException\u001b[0m                                 Traceback (most recent call last)",
      "File \u001b[0;32mjava.lang.Thread.java:-1\u001b[0m, in \u001b[0;36mjava.lang.Thread.run\u001b[0;34m()\u001b[0m\n",
      "\u001b[0;31mException\u001b[0m: Java Exception",
      "\nThe above exception was the direct cause of the following exception:\n",
      "\u001b[0;31mcom.comsol.util.exceptions.FlException\u001b[0m    Traceback (most recent call last)",
      "\u001b[1;32m/Users/pablotaboasrivss/Library/CloudStorage/OneDrive-DanmarksTekniskeUniversitet/Master/Thesis/BayesianVibrationsModeling/comsol.ipynb Cell 16\u001b[0m in \u001b[0;36m<cell line: 1>\u001b[0;34m()\u001b[0m\n\u001b[0;32m----> <a href='vscode-notebook-cell:/Users/pablotaboasrivss/Library/CloudStorage/OneDrive-DanmarksTekniskeUniversitet/Master/Thesis/BayesianVibrationsModeling/comsol.ipynb#X21sZmlsZQ%3D%3D?line=0'>1</a>\u001b[0m model\u001b[39m.\u001b[39;49msolve(\u001b[39m\"\u001b[39;49m\u001b[39mStudy 3\u001b[39;49m\u001b[39m\"\u001b[39;49m)\n\u001b[1;32m      <a href='vscode-notebook-cell:/Users/pablotaboasrivss/Library/CloudStorage/OneDrive-DanmarksTekniskeUniversitet/Master/Thesis/BayesianVibrationsModeling/comsol.ipynb#X21sZmlsZQ%3D%3D?line=1'>2</a>\u001b[0m comsolResults \u001b[39m=\u001b[39m \u001b[39mabs\u001b[39m(model\u001b[39m.\u001b[39mevaluate(\u001b[39m'\u001b[39m\u001b[39mcomp1.point1\u001b[39m\u001b[39m'\u001b[39m))\n",
      "File \u001b[0;32m/opt/miniconda3/lib/python3.9/site-packages/mph/model.py:349\u001b[0m, in \u001b[0;36mModel.solve\u001b[0;34m(self, study)\u001b[0m\n\u001b[1;32m    347\u001b[0m \u001b[39mfor\u001b[39;00m node \u001b[39min\u001b[39;00m nodes:\n\u001b[1;32m    348\u001b[0m     log\u001b[39m.\u001b[39minfo(\u001b[39mf\u001b[39m\u001b[39m'\u001b[39m\u001b[39mRunning study \u001b[39m\u001b[39m\"\u001b[39m\u001b[39m{\u001b[39;00mnode\u001b[39m.\u001b[39mname()\u001b[39m}\u001b[39;00m\u001b[39m\"\u001b[39m\u001b[39m.\u001b[39m\u001b[39m'\u001b[39m)\n\u001b[0;32m--> 349\u001b[0m     node\u001b[39m.\u001b[39;49mrun()\n\u001b[1;32m    350\u001b[0m     log\u001b[39m.\u001b[39minfo(\u001b[39m'\u001b[39m\u001b[39mFinished solving study.\u001b[39m\u001b[39m'\u001b[39m)\n",
      "File \u001b[0;32m/opt/miniconda3/lib/python3.9/site-packages/mph/node.py:546\u001b[0m, in \u001b[0;36mNode.run\u001b[0;34m(self)\u001b[0m\n\u001b[1;32m    544\u001b[0m     log\u001b[39m.\u001b[39merror(error)\n\u001b[1;32m    545\u001b[0m     \u001b[39mraise\u001b[39;00m \u001b[39mRuntimeError\u001b[39;00m(error)\n\u001b[0;32m--> 546\u001b[0m java\u001b[39m.\u001b[39;49mrun()\n",
      "\u001b[0;31mcom.comsol.util.exceptions.FlException\u001b[0m: Exception:\n\tcom.comsol.util.exceptions.FlException: The following feature has encountered a problem\nMessages:\n\tThe following feature has encountered a problem:\n\t- Feature: Compile Equations: Frequency Domain (sol1/st1)\n\n\tError in multiphysics compilation.\n\n\tSyntax error in expression.\n\t- Expression: 10^(range(log10(10.00),1.67,log10(470.00))) 10^(range(log10(520.00),0.04,log10(520.00))) 10^(range(log10(538.94),0.02,log10(600.00))) 10^(range(log10(700.00),0.07,log10(700.00))) 10^(range(log10(724.62),0.02,log10(1350.00))) 10^(range(log10(1390.00),0.01,log10(1390.00))) 10^(range(log10(1398.94),0.00,log10(1570.00))) 10^(range(log10(1630.00),0.02,log10(1630.00))) 10^(range(log10(1638.02),0.00,log10(2650.00))) 10^(range(log10(2750.00),0.02,log10(2750.00))) 10^(range(log10(2760.18),0.00,log10(2950.00))) 10^(range(log10(3050.00),0.01,log10(3050.00))) [Hz]\n\t- Subexpression: 10^(range(log10(520. ...\n\t- Position: 45\n"
     ]
    }
   ],
   "source": [
    "model.solve(\"Study 3\")\n",
    "comsolResults = abs(model.evaluate('comp1.point1'))"
   ]
  },
  {
   "cell_type": "code",
   "execution_count": null,
   "metadata": {},
   "outputs": [],
   "source": [
    "10^(range(log10(10), 1.6720978579357175, log10(470))) 10^(range(log10(519.9999999999998), 0.04390548569908148, log10(520))) 10^(range(log10(538.9398787530885), 0.015536976687211101, log10(600))) 10^(range(log10(700.0000000000001), 0.06694678963061351, log10(700))) 10^(range(log10(724.6202170588983), 0.015012406762144694, log10(1350))) 10^(range(log10(1389.9999999999995), 0.012681031759088857, log10(1390))) 10^(range(log10(1398.9371826246022), 0.0027834132713230844, log10(1570))) 10^(range(log10(1629.9999999999995), 0.016287951994724104, log10(1630))) 10^(range(log10(1638.0211540722255), 0.0021319017124530326, log10(2650))) 10^(range(log10(2750.0000000000014), 0.01608681989345495, log10(2750))) 10^(range(log10(2760.179938358229), 0.0016047011656789539, log10(2950))) 10^(range(log10(3050.0000000000005), 0.01447782336862291, log10(3050)))"
   ]
  },
  {
   "cell_type": "code",
   "execution_count": 17,
   "metadata": {},
   "outputs": [
    {
     "name": "stderr",
     "output_type": "stream",
     "text": [
      "Dataset \"study 3\" does not exist.\n"
     ]
    },
    {
     "ename": "ValueError",
     "evalue": "Dataset \"study 3\" does not exist.",
     "output_type": "error",
     "traceback": [
      "\u001b[0;31m---------------------------------------------------------------------------\u001b[0m",
      "\u001b[0;31mValueError\u001b[0m                                Traceback (most recent call last)",
      "\u001b[1;32m/Users/pablotaboasrivss/Library/CloudStorage/OneDrive-DanmarksTekniskeUniversitet/Master/Thesis/BayesianVibrationsModeling/notebooks/comsol.ipynb Cell 18\u001b[0m in \u001b[0;36m<cell line: 1>\u001b[0;34m()\u001b[0m\n\u001b[0;32m----> <a href='vscode-notebook-cell:/Users/pablotaboasrivss/Library/CloudStorage/OneDrive-DanmarksTekniskeUniversitet/Master/Thesis/BayesianVibrationsModeling/notebooks/comsol.ipynb#X23sZmlsZQ%3D%3D?line=0'>1</a>\u001b[0m model\u001b[39m.\u001b[39;49minner(\u001b[39m\"\u001b[39;49m\u001b[39mstudy 3\u001b[39;49m\u001b[39m\"\u001b[39;49m)\n",
      "File \u001b[0;32m/opt/miniconda3/lib/python3.9/site-packages/mph/model.py:376\u001b[0m, in \u001b[0;36mModel.inner\u001b[0;34m(self, dataset)\u001b[0m\n\u001b[1;32m    374\u001b[0m     error \u001b[39m=\u001b[39m \u001b[39mf\u001b[39m\u001b[39m'\u001b[39m\u001b[39mDataset \u001b[39m\u001b[39m\"\u001b[39m\u001b[39m{\u001b[39;00mdataset\u001b[39m.\u001b[39mname()\u001b[39m}\u001b[39;00m\u001b[39m\"\u001b[39m\u001b[39m does not exist.\u001b[39m\u001b[39m'\u001b[39m\n\u001b[1;32m    375\u001b[0m     log\u001b[39m.\u001b[39merror(error)\n\u001b[0;32m--> 376\u001b[0m     \u001b[39mraise\u001b[39;00m \u001b[39mValueError\u001b[39;00m(error)\n\u001b[1;32m    378\u001b[0m \u001b[39m# Find corresponding solution.\u001b[39;00m\n\u001b[1;32m    379\u001b[0m \u001b[39mif\u001b[39;00m \u001b[39m'\u001b[39m\u001b[39msolution\u001b[39m\u001b[39m'\u001b[39m \u001b[39min\u001b[39;00m dataset\u001b[39m.\u001b[39mproperties():\n",
      "\u001b[0;31mValueError\u001b[0m: Dataset \"study 3\" does not exist."
     ]
    }
   ],
   "source": [
    "model.inner(\"study 3\")"
   ]
  },
  {
   "cell_type": "code",
   "execution_count": 17,
   "metadata": {},
   "outputs": [
    {
     "data": {
      "image/png": "[encoded data removed]",
      "text/plain": [
       "<Figure size 640x480 with 1 Axes>"
      ]
     },
     "metadata": {},
     "output_type": "display_data"
    }
   ],
   "source": [
    "import numpy as np\n",
    "import matplotlib.pyplot as plt\n",
    "\n",
    "mean = 10**11\n",
    "variance = 1000000\n",
    "\n",
    "# Create a range of x-values\n",
    "x = np.linspace(mean - 3*np.sqrt(variance), mean + 3*np.sqrt(variance), 100)\n",
    "\n",
    "# Calculate the corresponding y-values from a Normal distribution\n",
    "y = 1/np.sqrt(2*np.pi*variance) * np.exp(-(x-mean)**2/(2*variance))\n",
    "\n",
    "# Plot the Normal distribution\n",
    "plt.plot(x, y)\n",
    "plt.title(\"Normal distribution with mean 10^11 and variance 0.001\")\n",
    "plt.xlabel(\"x\")\n",
    "plt.ylabel(\"Probability density\")\n",
    "plt.show()"
   ]
  },
  {
   "cell_type": "code",
   "execution_count": 13,
   "metadata": {},
   "outputs": [
    {
     "data": {
      "image/png": "[encoded data removed]",
      "text/plain": [
       "<Figure size 640x480 with 1 Axes>"
      ]
     },
     "metadata": {},
     "output_type": "display_data"
    }
   ],
   "source": [
    "import numpy as np\n",
    "import matplotlib.pyplot as plt\n",
    "from scipy.stats import lognorm\n",
    "\n",
    "mean = 10**11\n",
    "variance = 0.001\n",
    "\n",
    "# Calculate the corresponding parameters for the log-normal distribution\n",
    "sigma = np.sqrt(np.log(1 + variance/mean**2))\n",
    "mu = np.log(mean) - 0.5*sigma**2\n",
    "\n",
    "# Create a range of x-values\n",
    "x = np.linspace(10**8, 10**12, 1000)\n",
    "\n",
    "# Calculate the corresponding y-values from the log-normal distribution\n",
    "y = lognorm.pdf(x, s=sigma, scale=np.exp(mu))\n",
    "\n",
    "# Plot the log-normal distribution\n",
    "plt.plot(x, y)\n",
    "plt.title(\"Log-normal distribution with mean 10^11 and variance 0.001\")\n",
    "plt.xlabel(\"x\")\n",
    "plt.ylabel(\"Probability density\")\n",
    "plt.show()"
   ]
  },
  {
   "cell_type": "code",
   "execution_count": 11,
   "metadata": {},
   "outputs": [
    {
     "data": {
      "text/plain": [
       "array([nan, nan, nan, nan, nan, nan, nan, nan, nan, nan, nan, nan, nan,\n",
       "       nan, nan, nan, nan, nan, nan, nan, nan, nan, nan, nan, nan, nan,\n",
       "       nan, nan, nan, nan, nan, nan, nan, nan, nan, nan, nan, nan, nan,\n",
       "       nan, nan, nan, nan, nan, nan, nan, nan, nan, nan, nan, nan, nan,\n",
       "       nan, nan, nan, nan, nan, nan, nan, nan, nan, nan, nan, nan, nan,\n",
       "       nan, nan, nan, nan, nan, nan, nan, nan, nan, nan, nan, nan, nan,\n",
       "       nan, nan, nan, nan, nan, nan, nan, nan, nan, nan, nan, nan, nan,\n",
       "       nan, nan, nan, nan, nan, nan, nan, nan, nan, nan, nan, nan, nan,\n",
       "       nan, nan, nan, nan, nan, nan, nan, nan, nan, nan, nan, nan, nan,\n",
       "       nan, nan, nan, nan, nan, nan, nan, nan, nan, nan, nan, nan, nan,\n",
       "       nan, nan, nan, nan, nan, nan, nan, nan, nan, nan, nan, nan, nan,\n",
       "       nan, nan, nan, nan, nan, nan, nan, nan, nan, nan, nan, nan, nan,\n",
       "       nan, nan, nan, nan, nan, nan, nan, nan, nan, nan, nan, nan, nan,\n",
       "       nan, nan, nan, nan, nan, nan, nan, nan, nan, nan, nan, nan, nan,\n",
       "       nan, nan, nan, nan, nan, nan, nan, nan, nan, nan, nan, nan, nan,\n",
       "       nan, nan, nan, nan, nan, nan, nan, nan, nan, nan, nan, nan, nan,\n",
       "       nan, nan, nan, nan, nan, nan, nan, nan, nan, nan, nan, nan, nan,\n",
       "       nan, nan, nan, nan, nan, nan, nan, nan, nan, nan, nan, nan, nan,\n",
       "       nan, nan, nan, nan, nan, nan, nan, nan, nan, nan, nan, nan, nan,\n",
       "       nan, nan, nan, nan, nan, nan, nan, nan, nan, nan, nan, nan, nan,\n",
       "       nan, nan, nan, nan, nan, nan, nan, nan, nan, nan, nan, nan, nan,\n",
       "       nan, nan, nan, nan, nan, nan, nan, nan, nan, nan, nan, nan, nan,\n",
       "       nan, nan, nan, nan, nan, nan, nan, nan, nan, nan, nan, nan, nan,\n",
       "       nan, nan, nan, nan, nan, nan, nan, nan, nan, nan, nan, nan, nan,\n",
       "       nan, nan, nan, nan, nan, nan, nan, nan, nan, nan, nan, nan, nan,\n",
       "       nan, nan, nan, nan, nan, nan, nan, nan, nan, nan, nan, nan, nan,\n",
       "       nan, nan, nan, nan, nan, nan, nan, nan, nan, nan, nan, nan, nan,\n",
       "       nan, nan, nan, nan, nan, nan, nan, nan, nan, nan, nan, nan, nan,\n",
       "       nan, nan, nan, nan, nan, nan, nan, nan, nan, nan, nan, nan, nan,\n",
       "       nan, nan, nan, nan, nan, nan, nan, nan, nan, nan, nan, nan, nan,\n",
       "       nan, nan, nan, nan, nan, nan, nan, nan, nan, nan, nan, nan, nan,\n",
       "       nan, nan, nan, nan, nan, nan, nan, nan, nan, nan, nan, nan, nan,\n",
       "       nan, nan, nan, nan, nan, nan, nan, nan, nan, nan, nan, nan, nan,\n",
       "       nan, nan, nan, nan, nan, nan, nan, nan, nan, nan, nan, nan, nan,\n",
       "       nan, nan, nan, nan, nan, nan, nan, nan, nan, nan, nan, nan, nan,\n",
       "       nan, nan, nan, nan, nan, nan, nan, nan, nan, nan, nan, nan, nan,\n",
       "       nan, nan, nan, nan, nan, nan, nan, nan, nan, nan, nan, nan, nan,\n",
       "       nan, nan, nan, nan, nan, nan, nan, nan, nan, nan, nan, nan, nan,\n",
       "       nan, nan, nan, nan, nan, nan, nan, nan, nan, nan, nan, nan, nan,\n",
       "       nan, nan, nan, nan, nan, nan, nan, nan, nan, nan, nan, nan, nan,\n",
       "       nan, nan, nan, nan, nan, nan, nan, nan, nan, nan, nan, nan, nan,\n",
       "       nan, nan, nan, nan, nan, nan, nan, nan, nan, nan, nan, nan, nan,\n",
       "       nan, nan, nan, nan, nan, nan, nan, nan, nan, nan, nan, nan, nan,\n",
       "       nan, nan, nan, nan, nan, nan, nan, nan, nan, nan, nan, nan, nan,\n",
       "       nan, nan, nan, nan, nan, nan, nan, nan, nan, nan, nan, nan, nan,\n",
       "       nan, nan, nan, nan, nan, nan, nan, nan, nan, nan, nan, nan, nan,\n",
       "       nan, nan, nan, nan, nan, nan, nan, nan, nan, nan, nan, nan, nan,\n",
       "       nan, nan, nan, nan, nan, nan, nan, nan, nan, nan, nan, nan, nan,\n",
       "       nan, nan, nan, nan, nan, nan, nan, nan, nan, nan, nan, nan, nan,\n",
       "       nan, nan, nan, nan, nan, nan, nan, nan, nan, nan, nan, nan, nan,\n",
       "       nan, nan, nan, nan, nan, nan, nan, nan, nan, nan, nan, nan, nan,\n",
       "       nan, nan, nan, nan, nan, nan, nan, nan, nan, nan, nan, nan, nan,\n",
       "       nan, nan, nan, nan, nan, nan, nan, nan, nan, nan, nan, nan, nan,\n",
       "       nan, nan, nan, nan, nan, nan, nan, nan, nan, nan, nan, nan, nan,\n",
       "       nan, nan, nan, nan, nan, nan, nan, nan, nan, nan, nan, nan, nan,\n",
       "       nan, nan, nan, nan, nan, nan, nan, nan, nan, nan, nan, nan, nan,\n",
       "       nan, nan, nan, nan, nan, nan, nan, nan, nan, nan, nan, nan, nan,\n",
       "       nan, nan, nan, nan, nan, nan, nan, nan, nan, nan, nan, nan, nan,\n",
       "       nan, nan, nan, nan, nan, nan, nan, nan, nan, nan, nan, nan, nan,\n",
       "       nan, nan, nan, nan, nan, nan, nan, nan, nan, nan, nan, nan, nan,\n",
       "       nan, nan, nan, nan, nan, nan, nan, nan, nan, nan, nan, nan, nan,\n",
       "       nan, nan, nan, nan, nan, nan, nan, nan, nan, nan, nan, nan, nan,\n",
       "       nan, nan, nan, nan, nan, nan, nan, nan, nan, nan, nan, nan, nan,\n",
       "       nan, nan, nan, nan, nan, nan, nan, nan, nan, nan, nan, nan, nan,\n",
       "       nan, nan, nan, nan, nan, nan, nan, nan, nan, nan, nan, nan, nan,\n",
       "       nan, nan, nan, nan, nan, nan, nan, nan, nan, nan, nan, nan, nan,\n",
       "       nan, nan, nan, nan, nan, nan, nan, nan, nan, nan, nan, nan, nan,\n",
       "       nan, nan, nan, nan, nan, nan, nan, nan, nan, nan, nan, nan, nan,\n",
       "       nan, nan, nan, nan, nan, nan, nan, nan, nan, nan, nan, nan, nan,\n",
       "       nan, nan, nan, nan, nan, nan, nan, nan, nan, nan, nan, nan, nan,\n",
       "       nan, nan, nan, nan, nan, nan, nan, nan, nan, nan, nan, nan, nan,\n",
       "       nan, nan, nan, nan, nan, nan, nan, nan, nan, nan, nan, nan, nan,\n",
       "       nan, nan, nan, nan, nan, nan, nan, nan, nan, nan, nan, nan, nan,\n",
       "       nan, nan, nan, nan, nan, nan, nan, nan, nan, nan, nan, nan, nan,\n",
       "       nan, nan, nan, nan, nan, nan, nan, nan, nan, nan, nan, nan, nan,\n",
       "       nan, nan, nan, nan, nan, nan, nan, nan, nan, nan, nan, nan, nan,\n",
       "       nan, nan, nan, nan, nan, nan, nan, nan, nan, nan, nan, nan])"
      ]
     },
     "execution_count": 11,
     "metadata": {},
     "output_type": "execute_result"
    }
   ],
   "source": [
    "y"
   ]
  },
  {
   "cell_type": "code",
   "execution_count": null,
   "metadata": {},
   "outputs": [],
   "source": []
  }
 ],
 "metadata": {
  "kernelspec": {
   "display_name": "Python 3.9.12 ('base')",
   "language": "python",
   "name": "python3"
  },
  "language_info": {
   "codemirror_mode": {
    "name": "ipython",
    "version": 3
   },
   "file_extension": ".py",
   "mimetype": "text/x-python",
   "name": "python",
   "nbconvert_exporter": "python",
   "pygments_lexer": "ipython3",
   "version": "3.9.12"
  },
  "orig_nbformat": 4,
  "vscode": {
   "interpreter": {
    "hash": "3d597f4c481aa0f25dceb95d2a0067e73c0966dcbd003d741d821a7208527ecf"
   }
  }
 },
 "nbformat": 4,
 "nbformat_minor": 2
}
