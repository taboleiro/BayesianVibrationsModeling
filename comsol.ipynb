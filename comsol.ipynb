{
 "cells": [
  {
   "cell_type": "code",
   "execution_count": 2,
   "metadata": {},
   "outputs": [],
   "source": [
    "import mph"
   ]
  },
  {
   "cell_type": "code",
   "execution_count": 3,
   "metadata": {},
   "outputs": [
    {
     "name": "stderr",
     "output_type": "stream",
     "text": [
      "Could not locate any Comsol installation.\n"
     ]
    },
    {
     "ename": "RuntimeError",
     "evalue": "Could not locate any Comsol installation.",
     "output_type": "error",
     "traceback": [
      "\u001b[0;31m---------------------------------------------------------------------------\u001b[0m",
      "\u001b[0;31mRuntimeError\u001b[0m                              Traceback (most recent call last)",
      "\u001b[1;32m/Users/pablotaboasrivss/Library/CloudStorage/OneDrive-DanmarksTekniskeUniversitet/Master/Thesis/BayesianVibrationsModeling/comsol.ipynb Cell 2\u001b[0m in \u001b[0;36m<cell line: 1>\u001b[0;34m()\u001b[0m\n\u001b[0;32m----> <a href='vscode-notebook-cell:/Users/pablotaboasrivss/Library/CloudStorage/OneDrive-DanmarksTekniskeUniversitet/Master/Thesis/BayesianVibrationsModeling/comsol.ipynb#W1sZmlsZQ%3D%3D?line=0'>1</a>\u001b[0m client \u001b[39m=\u001b[39m mph\u001b[39m.\u001b[39;49mstart()\n\u001b[1;32m      <a href='vscode-notebook-cell:/Users/pablotaboasrivss/Library/CloudStorage/OneDrive-DanmarksTekniskeUniversitet/Master/Thesis/BayesianVibrationsModeling/comsol.ipynb#W1sZmlsZQ%3D%3D?line=1'>2</a>\u001b[0m client\u001b[39m.\u001b[39mload(\u001b[39m\"\u001b[39m\u001b[39mdata/bend/beam.mphbeam.mph\u001b[39m\u001b[39m\"\u001b[39m)\n",
      "File \u001b[0;32m/opt/miniconda3/lib/python3.9/site-packages/mph/session.py:103\u001b[0m, in \u001b[0;36mstart\u001b[0;34m(cores, version, port)\u001b[0m\n\u001b[1;32m    101\u001b[0m     client \u001b[39m=\u001b[39m Client(cores\u001b[39m=\u001b[39mcores, version\u001b[39m=\u001b[39mversion)\n\u001b[1;32m    102\u001b[0m \u001b[39melif\u001b[39;00m session \u001b[39m==\u001b[39m \u001b[39m'\u001b[39m\u001b[39mclient-server\u001b[39m\u001b[39m'\u001b[39m:\n\u001b[0;32m--> 103\u001b[0m     server \u001b[39m=\u001b[39m Server(cores\u001b[39m=\u001b[39;49mcores, version\u001b[39m=\u001b[39;49mversion, port\u001b[39m=\u001b[39;49mport)\n\u001b[1;32m    104\u001b[0m     client \u001b[39m=\u001b[39m Client(cores\u001b[39m=\u001b[39mcores, version\u001b[39m=\u001b[39mversion, port\u001b[39m=\u001b[39mserver\u001b[39m.\u001b[39mport)\n\u001b[1;32m    105\u001b[0m \u001b[39melse\u001b[39;00m:\n",
      "File \u001b[0;32m/opt/miniconda3/lib/python3.9/site-packages/mph/server.py:78\u001b[0m, in \u001b[0;36mServer.__init__\u001b[0;34m(self, cores, version, port, multi, timeout)\u001b[0m\n\u001b[1;32m     74\u001b[0m \u001b[39mdef\u001b[39;00m \u001b[39m__init__\u001b[39m(\u001b[39mself\u001b[39m, cores\u001b[39m=\u001b[39m\u001b[39mNone\u001b[39;00m, version\u001b[39m=\u001b[39m\u001b[39mNone\u001b[39;00m, port\u001b[39m=\u001b[39m\u001b[39mNone\u001b[39;00m,\n\u001b[1;32m     75\u001b[0m                    multi\u001b[39m=\u001b[39m\u001b[39mNone\u001b[39;00m, timeout\u001b[39m=\u001b[39m\u001b[39m60\u001b[39m):\n\u001b[1;32m     76\u001b[0m \n\u001b[1;32m     77\u001b[0m     \u001b[39m# Start Comsol server as an external process.\u001b[39;00m\n\u001b[0;32m---> 78\u001b[0m     backend \u001b[39m=\u001b[39m discovery\u001b[39m.\u001b[39;49mbackend(version)\n\u001b[1;32m     79\u001b[0m     server  \u001b[39m=\u001b[39m backend[\u001b[39m'\u001b[39m\u001b[39mserver\u001b[39m\u001b[39m'\u001b[39m]\n\u001b[1;32m     80\u001b[0m     log\u001b[39m.\u001b[39minfo(\u001b[39m'\u001b[39m\u001b[39mStarting external server process.\u001b[39m\u001b[39m'\u001b[39m)\n",
      "File \u001b[0;32m/opt/miniconda3/lib/python3.9/site-packages/mph/discovery.py:415\u001b[0m, in \u001b[0;36mbackend\u001b[0;34m(version)\u001b[0m\n\u001b[1;32m    413\u001b[0m     error \u001b[39m=\u001b[39m \u001b[39m'\u001b[39m\u001b[39mCould not locate any Comsol installation.\u001b[39m\u001b[39m'\u001b[39m\n\u001b[1;32m    414\u001b[0m     log\u001b[39m.\u001b[39merror(error)\n\u001b[0;32m--> 415\u001b[0m     \u001b[39mraise\u001b[39;00m \u001b[39mRuntimeError\u001b[39;00m(error)\n\u001b[1;32m    416\u001b[0m \u001b[39mif\u001b[39;00m version \u001b[39mis\u001b[39;00m \u001b[39mNone\u001b[39;00m:\n\u001b[1;32m    417\u001b[0m     numbers \u001b[39m=\u001b[39m [(backend[\u001b[39m'\u001b[39m\u001b[39mmajor\u001b[39m\u001b[39m'\u001b[39m], backend[\u001b[39m'\u001b[39m\u001b[39mminor\u001b[39m\u001b[39m'\u001b[39m], backend[\u001b[39m'\u001b[39m\u001b[39mpatch\u001b[39m\u001b[39m'\u001b[39m],\n\u001b[1;32m    418\u001b[0m                backend[\u001b[39m'\u001b[39m\u001b[39mbuild\u001b[39m\u001b[39m'\u001b[39m]) \u001b[39mfor\u001b[39;00m backend \u001b[39min\u001b[39;00m backends]\n",
      "\u001b[0;31mRuntimeError\u001b[0m: Could not locate any Comsol installation."
     ]
    }
   ],
   "source": [
    "client = mph.start()\n",
    "client.load(\"data/bend/beam.mphbeam.mph\")"
   ]
  },
  {
   "cell_type": "code",
   "execution_count": 7,
   "metadata": {},
   "outputs": [
    {
     "data": {
      "text/plain": [
       "[]"
      ]
     },
     "execution_count": 7,
     "metadata": {},
     "output_type": "execute_result"
    }
   ],
   "source": [
    "mph.discovery.search_disk()"
   ]
  },
  {
   "cell_type": "code",
   "execution_count": 6,
   "metadata": {},
   "outputs": [],
   "source": [
    "import platform                        # regular expressions\n",
    "from pathlib import Path  \n",
    "import re\n",
    "platform.system()\n",
    "locations = [\n",
    "            Path('/Applications'),\n",
    "            Path.home() / 'Applications',\n",
    "        ]"
   ]
  },
  {
   "cell_type": "code",
   "execution_count": 7,
   "metadata": {},
   "outputs": [],
   "source": [
    "folders = [item for location in locations\n",
    "                    if location.is_dir()\n",
    "                    for item in location.iterdir()\n",
    "                    if item.is_dir() and re.match('(?i)comsol', item.name)]"
   ]
  },
  {
   "cell_type": "code",
   "execution_count": 8,
   "metadata": {},
   "outputs": [
    {
     "data": {
      "text/plain": [
       "[PosixPath('/Applications/COMSOL Multiphysics.app'),\n",
       " PosixPath('/Applications/COMSOL61')]"
      ]
     },
     "execution_count": 8,
     "metadata": {},
     "output_type": "execute_result"
    }
   ],
   "source": [
    "folders"
   ]
  },
  {
   "cell_type": "code",
   "execution_count": null,
   "metadata": {},
   "outputs": [],
   "source": [
    "folder"
   ]
  }
 ],
 "metadata": {
  "kernelspec": {
   "display_name": "Python 3.9.12 ('base')",
   "language": "python",
   "name": "python3"
  },
  "language_info": {
   "name": "python",
   "version": "3.9.12"
  },
  "orig_nbformat": 4,
  "vscode": {
   "interpreter": {
    "hash": "3d597f4c481aa0f25dceb95d2a0067e73c0966dcbd003d741d821a7208527ecf"
   }
  }
 },
 "nbformat": 4,
 "nbformat_minor": 2
}
